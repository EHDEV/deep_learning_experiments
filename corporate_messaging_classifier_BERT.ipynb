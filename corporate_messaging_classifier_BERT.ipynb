{
  "nbformat": 4,
  "nbformat_minor": 0,
  "metadata": {
    "colab": {
      "name": "corporate_messaging_classifier_BERT.ipynb",
      "provenance": [],
      "toc_visible": true,
      "authorship_tag": "ABX9TyPEoy/iXRE8aIpCKzftIHaD",
      "include_colab_link": true
    },
    "kernelspec": {
      "name": "python3",
      "display_name": "Python 3"
    },
    "accelerator": "GPU",
    "widgets": {
      "application/vnd.jupyter.widget-state+json": {
        "d8b8e76c7a624af8a6316beb460fbfc8": {
          "model_module": "@jupyter-widgets/controls",
          "model_name": "HBoxModel",
          "state": {
            "_view_name": "HBoxView",
            "_dom_classes": [],
            "_model_name": "HBoxModel",
            "_view_module": "@jupyter-widgets/controls",
            "_model_module_version": "1.5.0",
            "_view_count": null,
            "_view_module_version": "1.5.0",
            "box_style": "",
            "layout": "IPY_MODEL_edf1c48aec7d46d5969201109663cd76",
            "_model_module": "@jupyter-widgets/controls",
            "children": [
              "IPY_MODEL_1f2bdaae21e6471e86553a9efa9e3403",
              "IPY_MODEL_64c36a63522c48f381be046cf5300fb4"
            ]
          }
        },
        "edf1c48aec7d46d5969201109663cd76": {
          "model_module": "@jupyter-widgets/base",
          "model_name": "LayoutModel",
          "state": {
            "_view_name": "LayoutView",
            "grid_template_rows": null,
            "right": null,
            "justify_content": null,
            "_view_module": "@jupyter-widgets/base",
            "overflow": null,
            "_model_module_version": "1.2.0",
            "_view_count": null,
            "flex_flow": null,
            "width": null,
            "min_width": null,
            "border": null,
            "align_items": null,
            "bottom": null,
            "_model_module": "@jupyter-widgets/base",
            "top": null,
            "grid_column": null,
            "overflow_y": null,
            "overflow_x": null,
            "grid_auto_flow": null,
            "grid_area": null,
            "grid_template_columns": null,
            "flex": null,
            "_model_name": "LayoutModel",
            "justify_items": null,
            "grid_row": null,
            "max_height": null,
            "align_content": null,
            "visibility": null,
            "align_self": null,
            "height": null,
            "min_height": null,
            "padding": null,
            "grid_auto_rows": null,
            "grid_gap": null,
            "max_width": null,
            "order": null,
            "_view_module_version": "1.2.0",
            "grid_template_areas": null,
            "object_position": null,
            "object_fit": null,
            "grid_auto_columns": null,
            "margin": null,
            "display": null,
            "left": null
          }
        },
        "1f2bdaae21e6471e86553a9efa9e3403": {
          "model_module": "@jupyter-widgets/controls",
          "model_name": "IntProgressModel",
          "state": {
            "_view_name": "ProgressView",
            "style": "IPY_MODEL_e5cf4b018c2a45268f54cb7823e91932",
            "_dom_classes": [],
            "description": "Downloading: 100%",
            "_model_name": "IntProgressModel",
            "bar_style": "success",
            "max": 231508,
            "_view_module": "@jupyter-widgets/controls",
            "_model_module_version": "1.5.0",
            "value": 231508,
            "_view_count": null,
            "_view_module_version": "1.5.0",
            "orientation": "horizontal",
            "min": 0,
            "description_tooltip": null,
            "_model_module": "@jupyter-widgets/controls",
            "layout": "IPY_MODEL_61920a9de2924ec2845906991429f74d"
          }
        },
        "64c36a63522c48f381be046cf5300fb4": {
          "model_module": "@jupyter-widgets/controls",
          "model_name": "HTMLModel",
          "state": {
            "_view_name": "HTMLView",
            "style": "IPY_MODEL_0906f701124740ce8eebb53e3ab9859d",
            "_dom_classes": [],
            "description": "",
            "_model_name": "HTMLModel",
            "placeholder": "​",
            "_view_module": "@jupyter-widgets/controls",
            "_model_module_version": "1.5.0",
            "value": " 232k/232k [00:00&lt;00:00, 629kB/s]",
            "_view_count": null,
            "_view_module_version": "1.5.0",
            "description_tooltip": null,
            "_model_module": "@jupyter-widgets/controls",
            "layout": "IPY_MODEL_1f9eaf2be0304c0da9d8ecb300009c23"
          }
        },
        "e5cf4b018c2a45268f54cb7823e91932": {
          "model_module": "@jupyter-widgets/controls",
          "model_name": "ProgressStyleModel",
          "state": {
            "_view_name": "StyleView",
            "_model_name": "ProgressStyleModel",
            "description_width": "initial",
            "_view_module": "@jupyter-widgets/base",
            "_model_module_version": "1.5.0",
            "_view_count": null,
            "_view_module_version": "1.2.0",
            "bar_color": null,
            "_model_module": "@jupyter-widgets/controls"
          }
        },
        "61920a9de2924ec2845906991429f74d": {
          "model_module": "@jupyter-widgets/base",
          "model_name": "LayoutModel",
          "state": {
            "_view_name": "LayoutView",
            "grid_template_rows": null,
            "right": null,
            "justify_content": null,
            "_view_module": "@jupyter-widgets/base",
            "overflow": null,
            "_model_module_version": "1.2.0",
            "_view_count": null,
            "flex_flow": null,
            "width": null,
            "min_width": null,
            "border": null,
            "align_items": null,
            "bottom": null,
            "_model_module": "@jupyter-widgets/base",
            "top": null,
            "grid_column": null,
            "overflow_y": null,
            "overflow_x": null,
            "grid_auto_flow": null,
            "grid_area": null,
            "grid_template_columns": null,
            "flex": null,
            "_model_name": "LayoutModel",
            "justify_items": null,
            "grid_row": null,
            "max_height": null,
            "align_content": null,
            "visibility": null,
            "align_self": null,
            "height": null,
            "min_height": null,
            "padding": null,
            "grid_auto_rows": null,
            "grid_gap": null,
            "max_width": null,
            "order": null,
            "_view_module_version": "1.2.0",
            "grid_template_areas": null,
            "object_position": null,
            "object_fit": null,
            "grid_auto_columns": null,
            "margin": null,
            "display": null,
            "left": null
          }
        },
        "0906f701124740ce8eebb53e3ab9859d": {
          "model_module": "@jupyter-widgets/controls",
          "model_name": "DescriptionStyleModel",
          "state": {
            "_view_name": "StyleView",
            "_model_name": "DescriptionStyleModel",
            "description_width": "",
            "_view_module": "@jupyter-widgets/base",
            "_model_module_version": "1.5.0",
            "_view_count": null,
            "_view_module_version": "1.2.0",
            "_model_module": "@jupyter-widgets/controls"
          }
        },
        "1f9eaf2be0304c0da9d8ecb300009c23": {
          "model_module": "@jupyter-widgets/base",
          "model_name": "LayoutModel",
          "state": {
            "_view_name": "LayoutView",
            "grid_template_rows": null,
            "right": null,
            "justify_content": null,
            "_view_module": "@jupyter-widgets/base",
            "overflow": null,
            "_model_module_version": "1.2.0",
            "_view_count": null,
            "flex_flow": null,
            "width": null,
            "min_width": null,
            "border": null,
            "align_items": null,
            "bottom": null,
            "_model_module": "@jupyter-widgets/base",
            "top": null,
            "grid_column": null,
            "overflow_y": null,
            "overflow_x": null,
            "grid_auto_flow": null,
            "grid_area": null,
            "grid_template_columns": null,
            "flex": null,
            "_model_name": "LayoutModel",
            "justify_items": null,
            "grid_row": null,
            "max_height": null,
            "align_content": null,
            "visibility": null,
            "align_self": null,
            "height": null,
            "min_height": null,
            "padding": null,
            "grid_auto_rows": null,
            "grid_gap": null,
            "max_width": null,
            "order": null,
            "_view_module_version": "1.2.0",
            "grid_template_areas": null,
            "object_position": null,
            "object_fit": null,
            "grid_auto_columns": null,
            "margin": null,
            "display": null,
            "left": null
          }
        },
        "4f5669ba3eae437ca1f8c3831c31b1ad": {
          "model_module": "@jupyter-widgets/controls",
          "model_name": "HBoxModel",
          "state": {
            "_view_name": "HBoxView",
            "_dom_classes": [],
            "_model_name": "HBoxModel",
            "_view_module": "@jupyter-widgets/controls",
            "_model_module_version": "1.5.0",
            "_view_count": null,
            "_view_module_version": "1.5.0",
            "box_style": "",
            "layout": "IPY_MODEL_cd636db551404ae8a0c04b828a424ce4",
            "_model_module": "@jupyter-widgets/controls",
            "children": [
              "IPY_MODEL_ecd232405c5f45b19494d7ac1f9c5fcc",
              "IPY_MODEL_bfebad98e2e744a193169d3f646f920f"
            ]
          }
        },
        "cd636db551404ae8a0c04b828a424ce4": {
          "model_module": "@jupyter-widgets/base",
          "model_name": "LayoutModel",
          "state": {
            "_view_name": "LayoutView",
            "grid_template_rows": null,
            "right": null,
            "justify_content": null,
            "_view_module": "@jupyter-widgets/base",
            "overflow": null,
            "_model_module_version": "1.2.0",
            "_view_count": null,
            "flex_flow": null,
            "width": null,
            "min_width": null,
            "border": null,
            "align_items": null,
            "bottom": null,
            "_model_module": "@jupyter-widgets/base",
            "top": null,
            "grid_column": null,
            "overflow_y": null,
            "overflow_x": null,
            "grid_auto_flow": null,
            "grid_area": null,
            "grid_template_columns": null,
            "flex": null,
            "_model_name": "LayoutModel",
            "justify_items": null,
            "grid_row": null,
            "max_height": null,
            "align_content": null,
            "visibility": null,
            "align_self": null,
            "height": null,
            "min_height": null,
            "padding": null,
            "grid_auto_rows": null,
            "grid_gap": null,
            "max_width": null,
            "order": null,
            "_view_module_version": "1.2.0",
            "grid_template_areas": null,
            "object_position": null,
            "object_fit": null,
            "grid_auto_columns": null,
            "margin": null,
            "display": null,
            "left": null
          }
        },
        "ecd232405c5f45b19494d7ac1f9c5fcc": {
          "model_module": "@jupyter-widgets/controls",
          "model_name": "IntProgressModel",
          "state": {
            "_view_name": "ProgressView",
            "style": "IPY_MODEL_8a2f2ad4e38f4864a631b7e6cca598a3",
            "_dom_classes": [],
            "description": "Downloading: 100%",
            "_model_name": "IntProgressModel",
            "bar_style": "success",
            "max": 433,
            "_view_module": "@jupyter-widgets/controls",
            "_model_module_version": "1.5.0",
            "value": 433,
            "_view_count": null,
            "_view_module_version": "1.5.0",
            "orientation": "horizontal",
            "min": 0,
            "description_tooltip": null,
            "_model_module": "@jupyter-widgets/controls",
            "layout": "IPY_MODEL_57e2493efec14199b18c5482add52fb6"
          }
        },
        "bfebad98e2e744a193169d3f646f920f": {
          "model_module": "@jupyter-widgets/controls",
          "model_name": "HTMLModel",
          "state": {
            "_view_name": "HTMLView",
            "style": "IPY_MODEL_821f23380a654b81a9bd51b9f94b1044",
            "_dom_classes": [],
            "description": "",
            "_model_name": "HTMLModel",
            "placeholder": "​",
            "_view_module": "@jupyter-widgets/controls",
            "_model_module_version": "1.5.0",
            "value": " 433/433 [00:13&lt;00:00, 33.1B/s]",
            "_view_count": null,
            "_view_module_version": "1.5.0",
            "description_tooltip": null,
            "_model_module": "@jupyter-widgets/controls",
            "layout": "IPY_MODEL_bdb3377cd1994641a62bbe46b723ea1a"
          }
        },
        "8a2f2ad4e38f4864a631b7e6cca598a3": {
          "model_module": "@jupyter-widgets/controls",
          "model_name": "ProgressStyleModel",
          "state": {
            "_view_name": "StyleView",
            "_model_name": "ProgressStyleModel",
            "description_width": "initial",
            "_view_module": "@jupyter-widgets/base",
            "_model_module_version": "1.5.0",
            "_view_count": null,
            "_view_module_version": "1.2.0",
            "bar_color": null,
            "_model_module": "@jupyter-widgets/controls"
          }
        },
        "57e2493efec14199b18c5482add52fb6": {
          "model_module": "@jupyter-widgets/base",
          "model_name": "LayoutModel",
          "state": {
            "_view_name": "LayoutView",
            "grid_template_rows": null,
            "right": null,
            "justify_content": null,
            "_view_module": "@jupyter-widgets/base",
            "overflow": null,
            "_model_module_version": "1.2.0",
            "_view_count": null,
            "flex_flow": null,
            "width": null,
            "min_width": null,
            "border": null,
            "align_items": null,
            "bottom": null,
            "_model_module": "@jupyter-widgets/base",
            "top": null,
            "grid_column": null,
            "overflow_y": null,
            "overflow_x": null,
            "grid_auto_flow": null,
            "grid_area": null,
            "grid_template_columns": null,
            "flex": null,
            "_model_name": "LayoutModel",
            "justify_items": null,
            "grid_row": null,
            "max_height": null,
            "align_content": null,
            "visibility": null,
            "align_self": null,
            "height": null,
            "min_height": null,
            "padding": null,
            "grid_auto_rows": null,
            "grid_gap": null,
            "max_width": null,
            "order": null,
            "_view_module_version": "1.2.0",
            "grid_template_areas": null,
            "object_position": null,
            "object_fit": null,
            "grid_auto_columns": null,
            "margin": null,
            "display": null,
            "left": null
          }
        },
        "821f23380a654b81a9bd51b9f94b1044": {
          "model_module": "@jupyter-widgets/controls",
          "model_name": "DescriptionStyleModel",
          "state": {
            "_view_name": "StyleView",
            "_model_name": "DescriptionStyleModel",
            "description_width": "",
            "_view_module": "@jupyter-widgets/base",
            "_model_module_version": "1.5.0",
            "_view_count": null,
            "_view_module_version": "1.2.0",
            "_model_module": "@jupyter-widgets/controls"
          }
        },
        "bdb3377cd1994641a62bbe46b723ea1a": {
          "model_module": "@jupyter-widgets/base",
          "model_name": "LayoutModel",
          "state": {
            "_view_name": "LayoutView",
            "grid_template_rows": null,
            "right": null,
            "justify_content": null,
            "_view_module": "@jupyter-widgets/base",
            "overflow": null,
            "_model_module_version": "1.2.0",
            "_view_count": null,
            "flex_flow": null,
            "width": null,
            "min_width": null,
            "border": null,
            "align_items": null,
            "bottom": null,
            "_model_module": "@jupyter-widgets/base",
            "top": null,
            "grid_column": null,
            "overflow_y": null,
            "overflow_x": null,
            "grid_auto_flow": null,
            "grid_area": null,
            "grid_template_columns": null,
            "flex": null,
            "_model_name": "LayoutModel",
            "justify_items": null,
            "grid_row": null,
            "max_height": null,
            "align_content": null,
            "visibility": null,
            "align_self": null,
            "height": null,
            "min_height": null,
            "padding": null,
            "grid_auto_rows": null,
            "grid_gap": null,
            "max_width": null,
            "order": null,
            "_view_module_version": "1.2.0",
            "grid_template_areas": null,
            "object_position": null,
            "object_fit": null,
            "grid_auto_columns": null,
            "margin": null,
            "display": null,
            "left": null
          }
        },
        "5221d3e8e51c41a7aba1a3657d0991c6": {
          "model_module": "@jupyter-widgets/controls",
          "model_name": "HBoxModel",
          "state": {
            "_view_name": "HBoxView",
            "_dom_classes": [],
            "_model_name": "HBoxModel",
            "_view_module": "@jupyter-widgets/controls",
            "_model_module_version": "1.5.0",
            "_view_count": null,
            "_view_module_version": "1.5.0",
            "box_style": "",
            "layout": "IPY_MODEL_b9b6a4fac9064333ae003a4891bf2a99",
            "_model_module": "@jupyter-widgets/controls",
            "children": [
              "IPY_MODEL_a41d2a6c8d2e4f91a31c6aafcbb011d5",
              "IPY_MODEL_59d82b1c19cf4ac08ef509ad42bc7a75"
            ]
          }
        },
        "b9b6a4fac9064333ae003a4891bf2a99": {
          "model_module": "@jupyter-widgets/base",
          "model_name": "LayoutModel",
          "state": {
            "_view_name": "LayoutView",
            "grid_template_rows": null,
            "right": null,
            "justify_content": null,
            "_view_module": "@jupyter-widgets/base",
            "overflow": null,
            "_model_module_version": "1.2.0",
            "_view_count": null,
            "flex_flow": null,
            "width": null,
            "min_width": null,
            "border": null,
            "align_items": null,
            "bottom": null,
            "_model_module": "@jupyter-widgets/base",
            "top": null,
            "grid_column": null,
            "overflow_y": null,
            "overflow_x": null,
            "grid_auto_flow": null,
            "grid_area": null,
            "grid_template_columns": null,
            "flex": null,
            "_model_name": "LayoutModel",
            "justify_items": null,
            "grid_row": null,
            "max_height": null,
            "align_content": null,
            "visibility": null,
            "align_self": null,
            "height": null,
            "min_height": null,
            "padding": null,
            "grid_auto_rows": null,
            "grid_gap": null,
            "max_width": null,
            "order": null,
            "_view_module_version": "1.2.0",
            "grid_template_areas": null,
            "object_position": null,
            "object_fit": null,
            "grid_auto_columns": null,
            "margin": null,
            "display": null,
            "left": null
          }
        },
        "a41d2a6c8d2e4f91a31c6aafcbb011d5": {
          "model_module": "@jupyter-widgets/controls",
          "model_name": "IntProgressModel",
          "state": {
            "_view_name": "ProgressView",
            "style": "IPY_MODEL_634ac402305c4b31878479f9344c5157",
            "_dom_classes": [],
            "description": "Downloading: 100%",
            "_model_name": "IntProgressModel",
            "bar_style": "success",
            "max": 440473133,
            "_view_module": "@jupyter-widgets/controls",
            "_model_module_version": "1.5.0",
            "value": 440473133,
            "_view_count": null,
            "_view_module_version": "1.5.0",
            "orientation": "horizontal",
            "min": 0,
            "description_tooltip": null,
            "_model_module": "@jupyter-widgets/controls",
            "layout": "IPY_MODEL_f21ef87eb8c74c7fbc5c0e67cf589a60"
          }
        },
        "59d82b1c19cf4ac08ef509ad42bc7a75": {
          "model_module": "@jupyter-widgets/controls",
          "model_name": "HTMLModel",
          "state": {
            "_view_name": "HTMLView",
            "style": "IPY_MODEL_c97d783a56f14c99944f4cc100e5beae",
            "_dom_classes": [],
            "description": "",
            "_model_name": "HTMLModel",
            "placeholder": "​",
            "_view_module": "@jupyter-widgets/controls",
            "_model_module_version": "1.5.0",
            "value": " 440M/440M [00:34&lt;00:00, 12.9MB/s]",
            "_view_count": null,
            "_view_module_version": "1.5.0",
            "description_tooltip": null,
            "_model_module": "@jupyter-widgets/controls",
            "layout": "IPY_MODEL_8ab214e8b9d74c87b30ca56e0220d336"
          }
        },
        "634ac402305c4b31878479f9344c5157": {
          "model_module": "@jupyter-widgets/controls",
          "model_name": "ProgressStyleModel",
          "state": {
            "_view_name": "StyleView",
            "_model_name": "ProgressStyleModel",
            "description_width": "initial",
            "_view_module": "@jupyter-widgets/base",
            "_model_module_version": "1.5.0",
            "_view_count": null,
            "_view_module_version": "1.2.0",
            "bar_color": null,
            "_model_module": "@jupyter-widgets/controls"
          }
        },
        "f21ef87eb8c74c7fbc5c0e67cf589a60": {
          "model_module": "@jupyter-widgets/base",
          "model_name": "LayoutModel",
          "state": {
            "_view_name": "LayoutView",
            "grid_template_rows": null,
            "right": null,
            "justify_content": null,
            "_view_module": "@jupyter-widgets/base",
            "overflow": null,
            "_model_module_version": "1.2.0",
            "_view_count": null,
            "flex_flow": null,
            "width": null,
            "min_width": null,
            "border": null,
            "align_items": null,
            "bottom": null,
            "_model_module": "@jupyter-widgets/base",
            "top": null,
            "grid_column": null,
            "overflow_y": null,
            "overflow_x": null,
            "grid_auto_flow": null,
            "grid_area": null,
            "grid_template_columns": null,
            "flex": null,
            "_model_name": "LayoutModel",
            "justify_items": null,
            "grid_row": null,
            "max_height": null,
            "align_content": null,
            "visibility": null,
            "align_self": null,
            "height": null,
            "min_height": null,
            "padding": null,
            "grid_auto_rows": null,
            "grid_gap": null,
            "max_width": null,
            "order": null,
            "_view_module_version": "1.2.0",
            "grid_template_areas": null,
            "object_position": null,
            "object_fit": null,
            "grid_auto_columns": null,
            "margin": null,
            "display": null,
            "left": null
          }
        },
        "c97d783a56f14c99944f4cc100e5beae": {
          "model_module": "@jupyter-widgets/controls",
          "model_name": "DescriptionStyleModel",
          "state": {
            "_view_name": "StyleView",
            "_model_name": "DescriptionStyleModel",
            "description_width": "",
            "_view_module": "@jupyter-widgets/base",
            "_model_module_version": "1.5.0",
            "_view_count": null,
            "_view_module_version": "1.2.0",
            "_model_module": "@jupyter-widgets/controls"
          }
        },
        "8ab214e8b9d74c87b30ca56e0220d336": {
          "model_module": "@jupyter-widgets/base",
          "model_name": "LayoutModel",
          "state": {
            "_view_name": "LayoutView",
            "grid_template_rows": null,
            "right": null,
            "justify_content": null,
            "_view_module": "@jupyter-widgets/base",
            "overflow": null,
            "_model_module_version": "1.2.0",
            "_view_count": null,
            "flex_flow": null,
            "width": null,
            "min_width": null,
            "border": null,
            "align_items": null,
            "bottom": null,
            "_model_module": "@jupyter-widgets/base",
            "top": null,
            "grid_column": null,
            "overflow_y": null,
            "overflow_x": null,
            "grid_auto_flow": null,
            "grid_area": null,
            "grid_template_columns": null,
            "flex": null,
            "_model_name": "LayoutModel",
            "justify_items": null,
            "grid_row": null,
            "max_height": null,
            "align_content": null,
            "visibility": null,
            "align_self": null,
            "height": null,
            "min_height": null,
            "padding": null,
            "grid_auto_rows": null,
            "grid_gap": null,
            "max_width": null,
            "order": null,
            "_view_module_version": "1.2.0",
            "grid_template_areas": null,
            "object_position": null,
            "object_fit": null,
            "grid_auto_columns": null,
            "margin": null,
            "display": null,
            "left": null
          }
        }
      }
    }
  },
  "cells": [
    {
      "cell_type": "markdown",
      "metadata": {
        "id": "view-in-github",
        "colab_type": "text"
      },
      "source": [
        "<a href=\"https://colab.research.google.com/github/EHDEV/deep_learning_experiments/blob/master/corporate_messaging_classifier_BERT.ipynb\" target=\"_parent\"><img src=\"https://colab.research.google.com/assets/colab-badge.svg\" alt=\"Open In Colab\"/></a>"
      ]
    },
    {
      "cell_type": "code",
      "metadata": {
        "id": "HHOFlRNeyC77",
        "colab_type": "code",
        "colab": {}
      },
      "source": [
        "from pathlib import Path"
      ],
      "execution_count": 0,
      "outputs": []
    },
    {
      "cell_type": "code",
      "metadata": {
        "id": "4SULlgAxUbAb",
        "colab_type": "code",
        "colab": {
          "base_uri": "https://localhost:8080/",
          "height": 683
        },
        "outputId": "ad2a8238-4a4f-4bc7-b81b-253ee9ae9c79"
      },
      "source": [
        "!pip install transformers"
      ],
      "execution_count": 2,
      "outputs": [
        {
          "output_type": "stream",
          "text": [
            "Collecting transformers\n",
            "\u001b[?25l  Downloading https://files.pythonhosted.org/packages/a3/78/92cedda05552398352ed9784908b834ee32a0bd071a9b32de287327370b7/transformers-2.8.0-py3-none-any.whl (563kB)\n",
            "\r\u001b[K     |▋                               | 10kB 24.9MB/s eta 0:00:01\r\u001b[K     |█▏                              | 20kB 5.7MB/s eta 0:00:01\r\u001b[K     |█▊                              | 30kB 8.1MB/s eta 0:00:01\r\u001b[K     |██▎                             | 40kB 10.3MB/s eta 0:00:01\r\u001b[K     |███                             | 51kB 6.8MB/s eta 0:00:01\r\u001b[K     |███▌                            | 61kB 7.9MB/s eta 0:00:01\r\u001b[K     |████                            | 71kB 8.9MB/s eta 0:00:01\r\u001b[K     |████▋                           | 81kB 9.8MB/s eta 0:00:01\r\u001b[K     |█████▎                          | 92kB 8.0MB/s eta 0:00:01\r\u001b[K     |█████▉                          | 102kB 8.7MB/s eta 0:00:01\r\u001b[K     |██████▍                         | 112kB 8.7MB/s eta 0:00:01\r\u001b[K     |███████                         | 122kB 8.7MB/s eta 0:00:01\r\u001b[K     |███████▋                        | 133kB 8.7MB/s eta 0:00:01\r\u001b[K     |████████▏                       | 143kB 8.7MB/s eta 0:00:01\r\u001b[K     |████████▊                       | 153kB 8.7MB/s eta 0:00:01\r\u001b[K     |█████████▎                      | 163kB 8.7MB/s eta 0:00:01\r\u001b[K     |█████████▉                      | 174kB 8.7MB/s eta 0:00:01\r\u001b[K     |██████████▌                     | 184kB 8.7MB/s eta 0:00:01\r\u001b[K     |███████████                     | 194kB 8.7MB/s eta 0:00:01\r\u001b[K     |███████████▋                    | 204kB 8.7MB/s eta 0:00:01\r\u001b[K     |████████████▏                   | 215kB 8.7MB/s eta 0:00:01\r\u001b[K     |████████████▉                   | 225kB 8.7MB/s eta 0:00:01\r\u001b[K     |█████████████▍                  | 235kB 8.7MB/s eta 0:00:01\r\u001b[K     |██████████████                  | 245kB 8.7MB/s eta 0:00:01\r\u001b[K     |██████████████▌                 | 256kB 8.7MB/s eta 0:00:01\r\u001b[K     |███████████████▏                | 266kB 8.7MB/s eta 0:00:01\r\u001b[K     |███████████████▊                | 276kB 8.7MB/s eta 0:00:01\r\u001b[K     |████████████████▎               | 286kB 8.7MB/s eta 0:00:01\r\u001b[K     |████████████████▉               | 296kB 8.7MB/s eta 0:00:01\r\u001b[K     |█████████████████▍              | 307kB 8.7MB/s eta 0:00:01\r\u001b[K     |██████████████████              | 317kB 8.7MB/s eta 0:00:01\r\u001b[K     |██████████████████▋             | 327kB 8.7MB/s eta 0:00:01\r\u001b[K     |███████████████████▏            | 337kB 8.7MB/s eta 0:00:01\r\u001b[K     |███████████████████▊            | 348kB 8.7MB/s eta 0:00:01\r\u001b[K     |████████████████████▍           | 358kB 8.7MB/s eta 0:00:01\r\u001b[K     |█████████████████████           | 368kB 8.7MB/s eta 0:00:01\r\u001b[K     |█████████████████████▌          | 378kB 8.7MB/s eta 0:00:01\r\u001b[K     |██████████████████████          | 389kB 8.7MB/s eta 0:00:01\r\u001b[K     |██████████████████████▊         | 399kB 8.7MB/s eta 0:00:01\r\u001b[K     |███████████████████████▎        | 409kB 8.7MB/s eta 0:00:01\r\u001b[K     |███████████████████████▉        | 419kB 8.7MB/s eta 0:00:01\r\u001b[K     |████████████████████████▍       | 430kB 8.7MB/s eta 0:00:01\r\u001b[K     |█████████████████████████       | 440kB 8.7MB/s eta 0:00:01\r\u001b[K     |█████████████████████████▋      | 450kB 8.7MB/s eta 0:00:01\r\u001b[K     |██████████████████████████▏     | 460kB 8.7MB/s eta 0:00:01\r\u001b[K     |██████████████████████████▊     | 471kB 8.7MB/s eta 0:00:01\r\u001b[K     |███████████████████████████▎    | 481kB 8.7MB/s eta 0:00:01\r\u001b[K     |████████████████████████████    | 491kB 8.7MB/s eta 0:00:01\r\u001b[K     |████████████████████████████▌   | 501kB 8.7MB/s eta 0:00:01\r\u001b[K     |█████████████████████████████   | 512kB 8.7MB/s eta 0:00:01\r\u001b[K     |█████████████████████████████▋  | 522kB 8.7MB/s eta 0:00:01\r\u001b[K     |██████████████████████████████▎ | 532kB 8.7MB/s eta 0:00:01\r\u001b[K     |██████████████████████████████▉ | 542kB 8.7MB/s eta 0:00:01\r\u001b[K     |███████████████████████████████▍| 552kB 8.7MB/s eta 0:00:01\r\u001b[K     |████████████████████████████████| 563kB 8.7MB/s eta 0:00:01\r\u001b[K     |████████████████████████████████| 573kB 8.7MB/s \n",
            "\u001b[?25hRequirement already satisfied: regex!=2019.12.17 in /usr/local/lib/python3.6/dist-packages (from transformers) (2019.12.20)\n",
            "Requirement already satisfied: filelock in /usr/local/lib/python3.6/dist-packages (from transformers) (3.0.12)\n",
            "Collecting sacremoses\n",
            "\u001b[?25l  Downloading https://files.pythonhosted.org/packages/7d/34/09d19aff26edcc8eb2a01bed8e98f13a1537005d31e95233fd48216eed10/sacremoses-0.0.43.tar.gz (883kB)\n",
            "\r\u001b[K     |▍                               | 10kB 26.2MB/s eta 0:00:01\r\u001b[K     |▊                               | 20kB 30.3MB/s eta 0:00:01\r\u001b[K     |█▏                              | 30kB 36.4MB/s eta 0:00:01\r\u001b[K     |█▌                              | 40kB 39.8MB/s eta 0:00:01\r\u001b[K     |█▉                              | 51kB 41.8MB/s eta 0:00:01\r\u001b[K     |██▎                             | 61kB 45.3MB/s eta 0:00:01\r\u001b[K     |██▋                             | 71kB 47.8MB/s eta 0:00:01\r\u001b[K     |███                             | 81kB 48.8MB/s eta 0:00:01\r\u001b[K     |███▍                            | 92kB 50.4MB/s eta 0:00:01\r\u001b[K     |███▊                            | 102kB 52.2MB/s eta 0:00:01\r\u001b[K     |████                            | 112kB 52.2MB/s eta 0:00:01\r\u001b[K     |████▌                           | 122kB 52.2MB/s eta 0:00:01\r\u001b[K     |████▉                           | 133kB 52.2MB/s eta 0:00:01\r\u001b[K     |█████▏                          | 143kB 52.2MB/s eta 0:00:01\r\u001b[K     |█████▋                          | 153kB 52.2MB/s eta 0:00:01\r\u001b[K     |██████                          | 163kB 52.2MB/s eta 0:00:01\r\u001b[K     |██████▎                         | 174kB 52.2MB/s eta 0:00:01\r\u001b[K     |██████▊                         | 184kB 52.2MB/s eta 0:00:01\r\u001b[K     |███████                         | 194kB 52.2MB/s eta 0:00:01\r\u001b[K     |███████▍                        | 204kB 52.2MB/s eta 0:00:01\r\u001b[K     |███████▉                        | 215kB 52.2MB/s eta 0:00:01\r\u001b[K     |████████▏                       | 225kB 52.2MB/s eta 0:00:01\r\u001b[K     |████████▌                       | 235kB 52.2MB/s eta 0:00:01\r\u001b[K     |█████████                       | 245kB 52.2MB/s eta 0:00:01\r\u001b[K     |█████████▎                      | 256kB 52.2MB/s eta 0:00:01\r\u001b[K     |█████████▋                      | 266kB 52.2MB/s eta 0:00:01\r\u001b[K     |██████████                      | 276kB 52.2MB/s eta 0:00:01\r\u001b[K     |██████████▍                     | 286kB 52.2MB/s eta 0:00:01\r\u001b[K     |██████████▊                     | 296kB 52.2MB/s eta 0:00:01\r\u001b[K     |███████████▏                    | 307kB 52.2MB/s eta 0:00:01\r\u001b[K     |███████████▌                    | 317kB 52.2MB/s eta 0:00:01\r\u001b[K     |███████████▉                    | 327kB 52.2MB/s eta 0:00:01\r\u001b[K     |████████████▎                   | 337kB 52.2MB/s eta 0:00:01\r\u001b[K     |████████████▋                   | 348kB 52.2MB/s eta 0:00:01\r\u001b[K     |█████████████                   | 358kB 52.2MB/s eta 0:00:01\r\u001b[K     |█████████████▍                  | 368kB 52.2MB/s eta 0:00:01\r\u001b[K     |█████████████▊                  | 378kB 52.2MB/s eta 0:00:01\r\u001b[K     |██████████████                  | 389kB 52.2MB/s eta 0:00:01\r\u001b[K     |██████████████▌                 | 399kB 52.2MB/s eta 0:00:01\r\u001b[K     |██████████████▉                 | 409kB 52.2MB/s eta 0:00:01\r\u001b[K     |███████████████▏                | 419kB 52.2MB/s eta 0:00:01\r\u001b[K     |███████████████▋                | 430kB 52.2MB/s eta 0:00:01\r\u001b[K     |████████████████                | 440kB 52.2MB/s eta 0:00:01\r\u001b[K     |████████████████▎               | 450kB 52.2MB/s eta 0:00:01\r\u001b[K     |████████████████▊               | 460kB 52.2MB/s eta 0:00:01\r\u001b[K     |█████████████████               | 471kB 52.2MB/s eta 0:00:01\r\u001b[K     |█████████████████▍              | 481kB 52.2MB/s eta 0:00:01\r\u001b[K     |█████████████████▉              | 491kB 52.2MB/s eta 0:00:01\r\u001b[K     |██████████████████▏             | 501kB 52.2MB/s eta 0:00:01\r\u001b[K     |██████████████████▌             | 512kB 52.2MB/s eta 0:00:01\r\u001b[K     |███████████████████             | 522kB 52.2MB/s eta 0:00:01\r\u001b[K     |███████████████████▎            | 532kB 52.2MB/s eta 0:00:01\r\u001b[K     |███████████████████▋            | 542kB 52.2MB/s eta 0:00:01\r\u001b[K     |████████████████████            | 552kB 52.2MB/s eta 0:00:01\r\u001b[K     |████████████████████▍           | 563kB 52.2MB/s eta 0:00:01\r\u001b[K     |████████████████████▊           | 573kB 52.2MB/s eta 0:00:01\r\u001b[K     |█████████████████████▏          | 583kB 52.2MB/s eta 0:00:01\r\u001b[K     |█████████████████████▌          | 593kB 52.2MB/s eta 0:00:01\r\u001b[K     |█████████████████████▉          | 604kB 52.2MB/s eta 0:00:01\r\u001b[K     |██████████████████████▎         | 614kB 52.2MB/s eta 0:00:01\r\u001b[K     |██████████████████████▋         | 624kB 52.2MB/s eta 0:00:01\r\u001b[K     |███████████████████████         | 634kB 52.2MB/s eta 0:00:01\r\u001b[K     |███████████████████████▍        | 645kB 52.2MB/s eta 0:00:01\r\u001b[K     |███████████████████████▊        | 655kB 52.2MB/s eta 0:00:01\r\u001b[K     |████████████████████████        | 665kB 52.2MB/s eta 0:00:01\r\u001b[K     |████████████████████████▌       | 675kB 52.2MB/s eta 0:00:01\r\u001b[K     |████████████████████████▉       | 686kB 52.2MB/s eta 0:00:01\r\u001b[K     |█████████████████████████▏      | 696kB 52.2MB/s eta 0:00:01\r\u001b[K     |█████████████████████████▋      | 706kB 52.2MB/s eta 0:00:01\r\u001b[K     |██████████████████████████      | 716kB 52.2MB/s eta 0:00:01\r\u001b[K     |██████████████████████████▎     | 727kB 52.2MB/s eta 0:00:01\r\u001b[K     |██████████████████████████▊     | 737kB 52.2MB/s eta 0:00:01\r\u001b[K     |███████████████████████████     | 747kB 52.2MB/s eta 0:00:01\r\u001b[K     |███████████████████████████▍    | 757kB 52.2MB/s eta 0:00:01\r\u001b[K     |███████████████████████████▉    | 768kB 52.2MB/s eta 0:00:01\r\u001b[K     |████████████████████████████▏   | 778kB 52.2MB/s eta 0:00:01\r\u001b[K     |████████████████████████████▌   | 788kB 52.2MB/s eta 0:00:01\r\u001b[K     |█████████████████████████████   | 798kB 52.2MB/s eta 0:00:01\r\u001b[K     |█████████████████████████████▎  | 808kB 52.2MB/s eta 0:00:01\r\u001b[K     |█████████████████████████████▋  | 819kB 52.2MB/s eta 0:00:01\r\u001b[K     |██████████████████████████████  | 829kB 52.2MB/s eta 0:00:01\r\u001b[K     |██████████████████████████████▍ | 839kB 52.2MB/s eta 0:00:01\r\u001b[K     |██████████████████████████████▊ | 849kB 52.2MB/s eta 0:00:01\r\u001b[K     |███████████████████████████████▏| 860kB 52.2MB/s eta 0:00:01\r\u001b[K     |███████████████████████████████▌| 870kB 52.2MB/s eta 0:00:01\r\u001b[K     |███████████████████████████████▉| 880kB 52.2MB/s eta 0:00:01\r\u001b[K     |████████████████████████████████| 890kB 52.2MB/s \n",
            "\u001b[?25hRequirement already satisfied: boto3 in /usr/local/lib/python3.6/dist-packages (from transformers) (1.12.47)\n",
            "Requirement already satisfied: requests in /usr/local/lib/python3.6/dist-packages (from transformers) (2.23.0)\n",
            "Collecting sentencepiece\n",
            "\u001b[?25l  Downloading https://files.pythonhosted.org/packages/98/2c/8df20f3ac6c22ac224fff307ebc102818206c53fc454ecd37d8ac2060df5/sentencepiece-0.1.86-cp36-cp36m-manylinux1_x86_64.whl (1.0MB)\n",
            "\u001b[K     |████████████████████████████████| 1.0MB 53.3MB/s \n",
            "\u001b[?25hRequirement already satisfied: tqdm>=4.27 in /usr/local/lib/python3.6/dist-packages (from transformers) (4.38.0)\n",
            "Collecting tokenizers==0.5.2\n",
            "\u001b[?25l  Downloading https://files.pythonhosted.org/packages/d1/3f/73c881ea4723e43c1e9acf317cf407fab3a278daab3a69c98dcac511c04f/tokenizers-0.5.2-cp36-cp36m-manylinux1_x86_64.whl (3.7MB)\n",
            "\u001b[K     |████████████████████████████████| 3.7MB 57.5MB/s \n",
            "\u001b[?25hRequirement already satisfied: numpy in /usr/local/lib/python3.6/dist-packages (from transformers) (1.18.3)\n",
            "Requirement already satisfied: dataclasses; python_version < \"3.7\" in /usr/local/lib/python3.6/dist-packages (from transformers) (0.7)\n",
            "Requirement already satisfied: six in /usr/local/lib/python3.6/dist-packages (from sacremoses->transformers) (1.12.0)\n",
            "Requirement already satisfied: click in /usr/local/lib/python3.6/dist-packages (from sacremoses->transformers) (7.1.2)\n",
            "Requirement already satisfied: joblib in /usr/local/lib/python3.6/dist-packages (from sacremoses->transformers) (0.14.1)\n",
            "Requirement already satisfied: jmespath<1.0.0,>=0.7.1 in /usr/local/lib/python3.6/dist-packages (from boto3->transformers) (0.9.5)\n",
            "Requirement already satisfied: botocore<1.16.0,>=1.15.47 in /usr/local/lib/python3.6/dist-packages (from boto3->transformers) (1.15.47)\n",
            "Requirement already satisfied: s3transfer<0.4.0,>=0.3.0 in /usr/local/lib/python3.6/dist-packages (from boto3->transformers) (0.3.3)\n",
            "Requirement already satisfied: urllib3!=1.25.0,!=1.25.1,<1.26,>=1.21.1 in /usr/local/lib/python3.6/dist-packages (from requests->transformers) (1.24.3)\n",
            "Requirement already satisfied: certifi>=2017.4.17 in /usr/local/lib/python3.6/dist-packages (from requests->transformers) (2020.4.5.1)\n",
            "Requirement already satisfied: chardet<4,>=3.0.2 in /usr/local/lib/python3.6/dist-packages (from requests->transformers) (3.0.4)\n",
            "Requirement already satisfied: idna<3,>=2.5 in /usr/local/lib/python3.6/dist-packages (from requests->transformers) (2.9)\n",
            "Requirement already satisfied: docutils<0.16,>=0.10 in /usr/local/lib/python3.6/dist-packages (from botocore<1.16.0,>=1.15.47->boto3->transformers) (0.15.2)\n",
            "Requirement already satisfied: python-dateutil<3.0.0,>=2.1 in /usr/local/lib/python3.6/dist-packages (from botocore<1.16.0,>=1.15.47->boto3->transformers) (2.8.1)\n",
            "Building wheels for collected packages: sacremoses\n",
            "  Building wheel for sacremoses (setup.py) ... \u001b[?25l\u001b[?25hdone\n",
            "  Created wheel for sacremoses: filename=sacremoses-0.0.43-cp36-none-any.whl size=893260 sha256=65a9f30b0ca50724bd0d772a4d9a1229fdcec16b845b2169da527fb359abdfd1\n",
            "  Stored in directory: /root/.cache/pip/wheels/29/3c/fd/7ce5c3f0666dab31a50123635e6fb5e19ceb42ce38d4e58f45\n",
            "Successfully built sacremoses\n",
            "Installing collected packages: sacremoses, sentencepiece, tokenizers, transformers\n",
            "Successfully installed sacremoses-0.0.43 sentencepiece-0.1.86 tokenizers-0.5.2 transformers-2.8.0\n"
          ],
          "name": "stdout"
        }
      ]
    },
    {
      "cell_type": "code",
      "metadata": {
        "id": "V4TBFAiyUXrM",
        "colab_type": "code",
        "colab": {}
      },
      "source": [
        "from transformers import BertTokenizer\n",
        "import pandas as pd\n",
        "import numpy as np\n",
        "import torch\n"
      ],
      "execution_count": 0,
      "outputs": []
    },
    {
      "cell_type": "code",
      "metadata": {
        "id": "HXGIaM8W44AX",
        "colab_type": "code",
        "outputId": "561b7978-f2d8-4f91-a781-44751d1ce430",
        "colab": {
          "base_uri": "https://localhost:8080/",
          "height": 122
        }
      },
      "source": [
        "from google.colab import drive\n",
        "drive.mount('/content/drive')\n",
        "\n",
        "home_dir = Path(\"/content/drive/My\\ Drive/ml/transformers-experiment\")"
      ],
      "execution_count": 4,
      "outputs": [
        {
          "output_type": "stream",
          "text": [
            "Go to this URL in a browser: https://accounts.google.com/o/oauth2/auth?client_id=947318989803-6bn6qk8qdgf4n4g3pfee6491hc0brc4i.apps.googleusercontent.com&redirect_uri=urn%3aietf%3awg%3aoauth%3a2.0%3aoob&response_type=code&scope=email%20https%3a%2f%2fwww.googleapis.com%2fauth%2fdocs.test%20https%3a%2f%2fwww.googleapis.com%2fauth%2fdrive%20https%3a%2f%2fwww.googleapis.com%2fauth%2fdrive.photos.readonly%20https%3a%2f%2fwww.googleapis.com%2fauth%2fpeopleapi.readonly\n",
            "\n",
            "Enter your authorization code:\n",
            "··········\n",
            "Mounted at /content/drive\n"
          ],
          "name": "stdout"
        }
      ]
    },
    {
      "cell_type": "code",
      "metadata": {
        "id": "zNuu2vqGA5qX",
        "colab_type": "code",
        "colab": {
          "base_uri": "https://localhost:8080/",
          "height": 34
        },
        "outputId": "6c0e51a8-d158-48c0-dd3b-948ec006f34a"
      },
      "source": [
        "cd $home_dir"
      ],
      "execution_count": 5,
      "outputs": [
        {
          "output_type": "stream",
          "text": [
            "/content/drive/My Drive/ml/transformers-experiment\n"
          ],
          "name": "stdout"
        }
      ]
    },
    {
      "cell_type": "code",
      "metadata": {
        "id": "wpcKoGD5U10W",
        "colab_type": "code",
        "colab": {}
      },
      "source": [
        "data_url = \"data/leadsherpa-all.csv\"\n",
        "\n",
        "column_names = ['text', 'dnc', 'verified_status']\n",
        "sentence_col, _, label_col = column_names\n",
        "\n",
        "# data_df = pd.read_csv(data_url, names=column_names)\n",
        "# data_df.shape"
      ],
      "execution_count": 0,
      "outputs": []
    },
    {
      "cell_type": "code",
      "metadata": {
        "id": "UFp6eSc0z4xD",
        "colab_type": "code",
        "colab": {}
      },
      "source": [
        "def read_data_file(data_path, column_names=None, sentence_col=None, label_col=None, sep=','):\n",
        "    ''' reads a single file into a dataframe '''\n",
        "\n",
        "    data_df = pd.read_csv(data_path, names=column_names, sep=sep)\n",
        "    return (\n",
        "        data_df, \n",
        "        data_df[sentence_col].str.lower().values, \n",
        "        data_df[label_col].str.lower().values\n",
        "    )"
      ],
      "execution_count": 0,
      "outputs": []
    },
    {
      "cell_type": "code",
      "metadata": {
        "id": "wki6RIymVzVL",
        "colab_type": "code",
        "outputId": "ac86d81a-5310-41a5-8019-e2b8b4d518de",
        "colab": {
          "base_uri": "https://localhost:8080/",
          "height": 34
        }
      },
      "source": [
        "data_df, sentences, labels = read_data_file(\n",
        "    data_url, \n",
        "    column_names=column_names, \n",
        "    sentence_col='text', \n",
        "    label_col='verified_status'\n",
        ")\n",
        "\n",
        "\n",
        "sentences, labels = data_df['text'].str.lower().values, data_df['verified_status'].values\n",
        "labels = np.array([ 1 if x == 'verified' else 0 for x in labels ])\n",
        "label_names_ids = {0:'unverified', 1:'verified'}\n",
        "\n",
        "sentences.shape, labels.shape, label_names_ids\n",
        "\n"
      ],
      "execution_count": 8,
      "outputs": [
        {
          "output_type": "execute_result",
          "data": {
            "text/plain": [
              "((32895,), (32895,), {0: 'unverified', 1: 'verified'})"
            ]
          },
          "metadata": {
            "tags": []
          },
          "execution_count": 8
        }
      ]
    },
    {
      "cell_type": "code",
      "metadata": {
        "id": "Tlt0wjvQVY0V",
        "colab_type": "code",
        "outputId": "b4608210-9af9-496c-bec7-69bc1aa929f1",
        "colab": {
          "base_uri": "https://localhost:8080/",
          "height": 51
        }
      },
      "source": [
        "\n",
        "if torch.cuda.is_available():\n",
        "    device = torch.device('cuda')\n",
        "    print(f'There are {torch.cuda.device_count()} GPUs available')\n",
        "    print('We will use the GPU:', torch.cuda.get_device_name(0))\n",
        "else:\n",
        "    print('No GPU available, using the cpu instead...')\n",
        "    device = torch.device('cpu')"
      ],
      "execution_count": 9,
      "outputs": [
        {
          "output_type": "stream",
          "text": [
            "There are 1 GPUs available\n",
            "We will use the GPU: Tesla P100-PCIE-16GB\n"
          ],
          "name": "stdout"
        }
      ]
    },
    {
      "cell_type": "code",
      "metadata": {
        "id": "33QBdlZA6kPy",
        "colab_type": "code",
        "colab": {}
      },
      "source": [
        "# data_df.to_csv('/content/drive/My Drive/ml/leadsherpa-all.csv', index=False)\n"
      ],
      "execution_count": 0,
      "outputs": []
    },
    {
      "cell_type": "code",
      "metadata": {
        "id": "0bNEW6EcWxFu",
        "colab_type": "code",
        "outputId": "601e9ecf-6b74-4636-ebe6-bb0647cac72d",
        "colab": {
          "base_uri": "https://localhost:8080/",
          "height": 66,
          "referenced_widgets": [
            "d8b8e76c7a624af8a6316beb460fbfc8",
            "edf1c48aec7d46d5969201109663cd76",
            "1f2bdaae21e6471e86553a9efa9e3403",
            "64c36a63522c48f381be046cf5300fb4",
            "e5cf4b018c2a45268f54cb7823e91932",
            "61920a9de2924ec2845906991429f74d",
            "0906f701124740ce8eebb53e3ab9859d",
            "1f9eaf2be0304c0da9d8ecb300009c23"
          ]
        }
      },
      "source": [
        "tokenizer = BertTokenizer.from_pretrained('bert-base-uncased', do_lower_case=True)\n",
        "\n",
        "input_ids = []\n",
        "MAX_LEN = 32\n",
        "attention_masks = []\n",
        "\n",
        "for sentence in sentences:\n",
        "    encoded_sentence = tokenizer.encode(\n",
        "        text=sentence, \n",
        "        add_special_tokens=True,\n",
        "        max_length=MAX_LEN,\n",
        "        pad_to_max_length=True\n",
        "    )\n",
        "\n",
        "    attention_masks.append([ 0 if x==0 else 1 for x in encoded_sentence ])\n",
        "    input_ids.append(encoded_sentence)"
      ],
      "execution_count": 10,
      "outputs": [
        {
          "output_type": "display_data",
          "data": {
            "application/vnd.jupyter.widget-view+json": {
              "model_id": "d8b8e76c7a624af8a6316beb460fbfc8",
              "version_minor": 0,
              "version_major": 2
            },
            "text/plain": [
              "HBox(children=(IntProgress(value=0, description='Downloading', max=231508, style=ProgressStyle(description_wid…"
            ]
          },
          "metadata": {
            "tags": []
          }
        },
        {
          "output_type": "stream",
          "text": [
            "\n"
          ],
          "name": "stdout"
        }
      ]
    },
    {
      "cell_type": "markdown",
      "metadata": {
        "id": "xZsWoK4XXTu3",
        "colab_type": "text"
      },
      "source": [
        "### Training and Validation Split and Convert Numpy Data to Pytorch **Type**"
      ]
    },
    {
      "cell_type": "code",
      "metadata": {
        "id": "pxVVo0CqXJ14",
        "colab_type": "code",
        "outputId": "b5000c2e-1b68-400a-a45c-5d8204a3053c",
        "colab": {
          "base_uri": "https://localhost:8080/",
          "height": 71
        }
      },
      "source": [
        "from sklearn.model_selection import train_test_split\n",
        "\n",
        "train_inputs, valid_inputs, train_labels, valid_labels = train_test_split(\n",
        "    input_ids, labels, random_state=2018, test_size=0.1\n",
        ")\n",
        "\n",
        "train_masks, valid_masks = train_test_split(\n",
        "    attention_masks, random_state=2018, test_size=0.1\n",
        ")\n",
        "\n",
        "print(len(train_inputs), len(valid_inputs), len(valid_masks), len(train_masks))\n",
        "\n",
        "train_input_tensor = torch.tensor(train_inputs)\n",
        "train_label_tensor = torch.tensor(train_labels)\n",
        "train_mask_tensor = torch.tensor(train_masks)\n",
        "valid_input_tensor = torch.tensor(valid_inputs)\n",
        "valid_label_tensor = torch.tensor(valid_labels)\n",
        "valid_mask_tensor = torch.tensor(valid_masks)\n",
        "\n",
        "print(train_input_tensor.shape, \n",
        "      train_label_tensor.shape, \n",
        "      train_mask_tensor.shape, \n",
        "      valid_input_tensor.shape, \n",
        "      valid_label_tensor.shape, \n",
        "      valid_mask_tensor.shape, \n",
        "      )\n"
      ],
      "execution_count": 11,
      "outputs": [
        {
          "output_type": "stream",
          "text": [
            "29605 3290 3290 29605\n",
            "torch.Size([29605, 32]) torch.Size([29605]) torch.Size([29605, 32]) torch.Size([3290, 32]) torch.Size([3290]) torch.Size([3290, 32])\n"
          ],
          "name": "stdout"
        }
      ]
    },
    {
      "cell_type": "code",
      "metadata": {
        "id": "1RGtoC4iXanV",
        "colab_type": "code",
        "colab": {}
      },
      "source": [
        "from torch.utils.data import TensorDataset, DataLoader, RandomSampler, SequentialSampler\n",
        "\n",
        "# DataLoader requires batch_size for training\n",
        "# Recommended batch sizes are 16 and 32\n",
        "\n",
        "BATCH_SIZE = 32\n",
        "\n",
        "train_data = TensorDataset(\n",
        "    train_input_tensor, train_mask_tensor, train_label_tensor\n",
        ")\n",
        "train_sampler = RandomSampler(train_data)\n",
        "train_dataloader = DataLoader(\n",
        "    train_data, sampler=train_sampler, batch_size=BATCH_SIZE\n",
        ")\n",
        "\n",
        "valid_data = TensorDataset(\n",
        "    valid_input_tensor, valid_mask_tensor, valid_label_tensor\n",
        ")\n",
        "valid_sampler = SequentialSampler(valid_data)\n",
        "valid_dataloader = DataLoader(\n",
        "    valid_data, sampler=valid_sampler\n",
        ")"
      ],
      "execution_count": 0,
      "outputs": []
    },
    {
      "cell_type": "code",
      "metadata": {
        "id": "zSYWTqsBauUT",
        "colab_type": "code",
        "colab": {
          "base_uri": "https://localhost:8080/",
          "height": 115,
          "referenced_widgets": [
            "4f5669ba3eae437ca1f8c3831c31b1ad",
            "cd636db551404ae8a0c04b828a424ce4",
            "ecd232405c5f45b19494d7ac1f9c5fcc",
            "bfebad98e2e744a193169d3f646f920f",
            "8a2f2ad4e38f4864a631b7e6cca598a3",
            "57e2493efec14199b18c5482add52fb6",
            "821f23380a654b81a9bd51b9f94b1044",
            "bdb3377cd1994641a62bbe46b723ea1a",
            "5221d3e8e51c41a7aba1a3657d0991c6",
            "b9b6a4fac9064333ae003a4891bf2a99",
            "a41d2a6c8d2e4f91a31c6aafcbb011d5",
            "59d82b1c19cf4ac08ef509ad42bc7a75",
            "634ac402305c4b31878479f9344c5157",
            "f21ef87eb8c74c7fbc5c0e67cf589a60",
            "c97d783a56f14c99944f4cc100e5beae",
            "8ab214e8b9d74c87b30ca56e0220d336"
          ]
        },
        "outputId": "6cf7014c-6d49-496f-f9a6-61fe6e47a993"
      },
      "source": [
        "from transformers import BertForSequenceClassification, AdamW, BertConfig\n",
        "\n",
        "model = BertForSequenceClassification.from_pretrained(\n",
        "    'bert-base-uncased', #12-layer BERT model with uncased vocab\n",
        "    num_labels=2,\n",
        "    output_attentions=False,\n",
        "    output_hidden_states=False\n",
        ")\n",
        "model.cuda();\n",
        "\n"
      ],
      "execution_count": 13,
      "outputs": [
        {
          "output_type": "display_data",
          "data": {
            "application/vnd.jupyter.widget-view+json": {
              "model_id": "4f5669ba3eae437ca1f8c3831c31b1ad",
              "version_minor": 0,
              "version_major": 2
            },
            "text/plain": [
              "HBox(children=(IntProgress(value=0, description='Downloading', max=433, style=ProgressStyle(description_width=…"
            ]
          },
          "metadata": {
            "tags": []
          }
        },
        {
          "output_type": "stream",
          "text": [
            "\n"
          ],
          "name": "stdout"
        },
        {
          "output_type": "display_data",
          "data": {
            "application/vnd.jupyter.widget-view+json": {
              "model_id": "5221d3e8e51c41a7aba1a3657d0991c6",
              "version_minor": 0,
              "version_major": 2
            },
            "text/plain": [
              "HBox(children=(IntProgress(value=0, description='Downloading', max=440473133, style=ProgressStyle(description_…"
            ]
          },
          "metadata": {
            "tags": []
          }
        },
        {
          "output_type": "stream",
          "text": [
            "\n"
          ],
          "name": "stdout"
        }
      ]
    },
    {
      "cell_type": "code",
      "metadata": {
        "id": "BeSmqZGIa1eW",
        "colab_type": "code",
        "colab": {
          "base_uri": "https://localhost:8080/",
          "height": 595
        },
        "outputId": "168afb49-5ba6-4cf7-9a49-ce09bba205aa"
      },
      "source": [
        "# Get all of the model's parameters as a list of tuples\n",
        "\n",
        "params = list(model.named_parameters())\n",
        "print(f'The BERT model has {len(params)} named parameters')\n",
        "\n",
        "print('==== Embedding Layer ====\\n')\n",
        "for p in params[0:5]:\n",
        "    print(\"{:<55} {:>12}\".format(p[0], str(tuple(p[1].size()))))\n",
        "\n",
        "print('\\n==== First Transformer ====\\n')\n",
        "for p in params[5:21]:\n",
        "    print(\"{:<55} {:>12}\".format(p[0], str(tuple(p[1].size()))))\n",
        "\n",
        "print('\\n==== Output Layer ====\\n')\n",
        "for p in params[-4:]:\n",
        "    print(\"{:<55} {:>12}\".format(p[0], str(tuple(p[1].size()))))"
      ],
      "execution_count": 14,
      "outputs": [
        {
          "output_type": "stream",
          "text": [
            "The BERT model has 201 named parameters\n",
            "==== Embedding Layer ====\n",
            "\n",
            "bert.embeddings.word_embeddings.weight                  (30522, 768)\n",
            "bert.embeddings.position_embeddings.weight                (512, 768)\n",
            "bert.embeddings.token_type_embeddings.weight                (2, 768)\n",
            "bert.embeddings.LayerNorm.weight                              (768,)\n",
            "bert.embeddings.LayerNorm.bias                                (768,)\n",
            "\n",
            "==== First Transformer ====\n",
            "\n",
            "bert.encoder.layer.0.attention.self.query.weight          (768, 768)\n",
            "bert.encoder.layer.0.attention.self.query.bias                (768,)\n",
            "bert.encoder.layer.0.attention.self.key.weight            (768, 768)\n",
            "bert.encoder.layer.0.attention.self.key.bias                  (768,)\n",
            "bert.encoder.layer.0.attention.self.value.weight          (768, 768)\n",
            "bert.encoder.layer.0.attention.self.value.bias                (768,)\n",
            "bert.encoder.layer.0.attention.output.dense.weight        (768, 768)\n",
            "bert.encoder.layer.0.attention.output.dense.bias              (768,)\n",
            "bert.encoder.layer.0.attention.output.LayerNorm.weight        (768,)\n",
            "bert.encoder.layer.0.attention.output.LayerNorm.bias          (768,)\n",
            "bert.encoder.layer.0.intermediate.dense.weight           (3072, 768)\n",
            "bert.encoder.layer.0.intermediate.dense.bias                 (3072,)\n",
            "bert.encoder.layer.0.output.dense.weight                 (768, 3072)\n",
            "bert.encoder.layer.0.output.dense.bias                        (768,)\n",
            "bert.encoder.layer.0.output.LayerNorm.weight                  (768,)\n",
            "bert.encoder.layer.0.output.LayerNorm.bias                    (768,)\n",
            "\n",
            "==== Output Layer ====\n",
            "\n",
            "bert.pooler.dense.weight                                  (768, 768)\n",
            "bert.pooler.dense.bias                                        (768,)\n",
            "classifier.weight                                           (2, 768)\n",
            "classifier.bias                                                 (2,)\n"
          ],
          "name": "stdout"
        }
      ]
    },
    {
      "cell_type": "code",
      "metadata": {
        "id": "-3TLbR19bPq0",
        "colab_type": "code",
        "outputId": "8a15f500-9447-4c01-d882-05f2785361f4",
        "colab": {
          "base_uri": "https://localhost:8080/",
          "height": 34
        }
      },
      "source": [
        "from transformers import get_linear_schedule_with_warmup\n",
        "\n",
        "optimizer = AdamW(\n",
        "    params=model.parameters(),  \n",
        "    lr=2e-5\n",
        ")\n",
        "\n",
        "epochs = 4\n",
        "total_steps = len(train_dataloader) * epochs\n",
        "\n",
        "scheduler = get_linear_schedule_with_warmup(\n",
        "    optimizer=optimizer,\n",
        "    num_warmup_steps=1,\n",
        "    num_training_steps=total_steps\n",
        ")\n",
        "total_steps"
      ],
      "execution_count": 15,
      "outputs": [
        {
          "output_type": "execute_result",
          "data": {
            "text/plain": [
              "3704"
            ]
          },
          "metadata": {
            "tags": []
          },
          "execution_count": 15
        }
      ]
    },
    {
      "cell_type": "code",
      "metadata": {
        "id": "OK-MLBXlbwhS",
        "colab_type": "code",
        "colab": {}
      },
      "source": [
        "import numpy as np\n",
        "import time, datetime\n",
        "\n",
        "def flat_accuracy(preds, labels):\n",
        " pred_flat = np.argmax(preds, axis=1).flatten()\n",
        " labels_flat = labels.flatten()\n",
        " return np.sum(pred_flat == labels_flat) / len(labels_flat)\n",
        "\n",
        "def format_time(elapsed):\n",
        "    # Round to the nearest second\n",
        "    elapsed_rounded = int(round(elapsed))\n",
        "\n",
        "    # hh:mm:ss\n",
        "    return(str(datetime.timedelta(seconds=elapsed_rounded)))\n",
        "    "
      ],
      "execution_count": 0,
      "outputs": []
    },
    {
      "cell_type": "code",
      "metadata": {
        "id": "2aNwMO5Rb1Cf",
        "colab_type": "code",
        "outputId": "38021f99-b05c-4a2e-a148-8c7a581f7f12",
        "colab": {
          "base_uri": "https://localhost:8080/",
          "height": 1000
        }
      },
      "source": [
        "import random\n",
        "\n",
        "SEED = 100\n",
        "\n",
        "random.seed(SEED)\n",
        "torch.manual_seed(SEED)\n",
        "torch.cuda.manual_seed_all(SEED)\n",
        "\n",
        "loss_values = []\n",
        "\n",
        "# 1. Iterating over the number of epochs\n",
        "for epoch in range(0, epochs):\n",
        "\n",
        "    # =============================\n",
        "    # Training\n",
        "    # =============================\n",
        "\n",
        "    print(f'=============== Epoch {epoch+1} / {epochs} ======')\n",
        "    print('Training...')\n",
        "\n",
        "    t0 = time.time()\n",
        "    total_loss = 0 # Reset the total loss for this epoch.\n",
        "    \n",
        "    model.train()\n",
        "\n",
        "#2. Iterating over the batches in train_data_loader👇🏾\n",
        "    \n",
        "    train_accuracy = 0.0\n",
        "\n",
        "    for step, batch in enumerate(train_dataloader):\n",
        "        # Progress update every 40 batches\n",
        "        if step % 40 == 0 and not step == 0: \n",
        "            # Calculate elapsed time in minutes\n",
        "            elapsed = format_time(time.time() - t0)\n",
        "\n",
        "            # Report progress\n",
        "            print('Batch {:>5,} of {:>5,}. Elapsed: {:}.'.format(step, len(train_dataloader), elapsed)) # Unpack this training batch from our dataloader. ')\n",
        "\n",
        "            # Copy tensor to GPU\n",
        "            # batch contains three tensors\n",
        "            # input_ids, attention_masks and labels\n",
        "        b_input_ids = batch[0].to(device)\n",
        "        b_input_mask = batch[1].to(device)\n",
        "        b_input_labels = batch[2].to(device)\n",
        "        \n",
        "        model.zero_grad() # setting batch gradients to 0 \n",
        "\n",
        "        outputs = model(\n",
        "            b_input_ids, \n",
        "            token_type_ids=None, \n",
        "            attention_mask=b_input_mask,\n",
        "            labels=b_input_labels\n",
        "        )\n",
        "        # The call to `model` always returns a tuple, so we need to pull the \n",
        "        # loss value out of the tuple.\n",
        "        # outputs = (loss, logits)\n",
        "\n",
        "        loss = outputs[0]\n",
        "        \n",
        "        tlogits = outputs[1].detach().cpu().numpy()\n",
        "        tlabel_ids = b_input_labels.detach().cpu().numpy()\n",
        "\n",
        "        tmp_tr_acc = flat_accuracy(tlogits, tlabel_ids)\n",
        "        train_accuracy += tmp_tr_acc\n",
        "\n",
        "\n",
        "        # 👇🏾Accumulate the training loss over all of the batches so that we can\n",
        "        # calculate the average loss at the end. `loss` is a Tensor containing a\n",
        "        # single value; the `.item()` function just returns the Python value \n",
        "        # from the tensor.\n",
        "        total_loss += loss.item()\n",
        "\n",
        "        loss.backward() # backward pass to calculate gradients\n",
        "        \n",
        "        # 👇🏾 cliping grads to help prevent the \"exploding gradients\" problem.\n",
        "        torch.nn.utils.clip_grad_norm_(model.parameters(), 1.0)\n",
        "\n",
        "        optimizer.step() \n",
        "        scheduler.step() # Update the learning rate\n",
        "\n",
        "    # Calculate the average loss over the training data\n",
        "    average_train_loss = total_loss/len(train_dataloader)\n",
        "\n",
        "    loss_values.append(average_train_loss)\n",
        "    print(\" Train Accuracy: {0:.2f}\".format(train_accuracy/step))\n",
        "    print(f'Average training loss: {average_train_loss}')\n",
        "    print(f'Training epoch took: {format_time(time.time() - t0)}')\n",
        "\n",
        "\n",
        "    # =====================================\n",
        "    #              Validation\n",
        "    # =====================================\n",
        "\n",
        "    # After the completion of each training epoch, measure your performance\n",
        "    # on the validation set\n",
        "    print()\n",
        "    print('Running Validation...')\n",
        "\n",
        "    t0 = time.time()\n",
        "\n",
        "    # put the model in evaluation mode -- the dropout layers behave differently\n",
        "    # during evaluation\n",
        "\n",
        "    model.eval()\n",
        "\n",
        "    # Tracking variables\n",
        "\n",
        "    eval_loss, eval_accuracy = 0, 0\n",
        "    nb_eval_steps, nb_eval_examples = 0, 0\n",
        "\n",
        "    # Evaluate data for one epoch\n",
        "\n",
        "    for batch in valid_dataloader:\n",
        "\n",
        "        batch = tuple(t.to(device) for t in batch)\n",
        "\n",
        "        # Unpack inputs from dataloader\n",
        "        b_input_ids, b_input_mask, b_labels = batch\n",
        "\n",
        "        # Telling the model not to compute or store gradients,\n",
        "        # saving memory and speeding up validation\n",
        "        with torch.no_grad():\n",
        "            \n",
        "            # Foreward pass, calculate logit predictions\n",
        "            # Only returning logits instead of loss because\n",
        "            # we haven't provided labels\n",
        "\n",
        "            # token_type_ids is the same as the segment_ids which \n",
        "            # indicates which token belongs to sentence 1 or 2 in \n",
        "            # 2 sentence tasks\n",
        "\n",
        "            outputs = model(\n",
        "                b_input_ids, \n",
        "                token_type_ids=None,\n",
        "                attention_mask=b_input_mask\n",
        "            ) # labels are not passed here in validation\n",
        "\n",
        "            # Get the \"logits\" output by the model. The \"logits\" are the output\n",
        "            # values prior to applying an activation function like softmax\n",
        "\n",
        "            logits = outputs[0]\n",
        "\n",
        "            # Move logits and labels to CPU\n",
        "\n",
        "            logits = logits.detach().cpu().numpy()\n",
        "            label_ids = b_labels.to('cpu').numpy()\n",
        "\n",
        "            # Calculate the accuracy for this batch of test sentences.\n",
        "            tmp_eval_accuracy = flat_accuracy(logits, label_ids)\n",
        "            eval_accuracy += tmp_eval_accuracy\n",
        "\n",
        "            # track the number of batches\n",
        "            nb_eval_steps +=1\n",
        "\n",
        "    # Report the final accuracy for this validation run\n",
        "    print(f' Accuracy: {eval_accuracy/nb_eval_steps}')\n",
        "    print(f' Validation took: {format_time(time.time() - t0)}')\n",
        "\n",
        "print()\n",
        "print('Training Complete')"
      ],
      "execution_count": 17,
      "outputs": [
        {
          "output_type": "stream",
          "text": [
            "=============== Epoch 1 / 4 ======\n",
            "Training...\n"
          ],
          "name": "stdout"
        },
        {
          "output_type": "stream",
          "text": [
            "/pytorch/torch/csrc/utils/python_arg_parser.cpp:756: UserWarning: This overload of add_ is deprecated:\n",
            "\tadd_(Number alpha, Tensor other)\n",
            "Consider using one of the following signatures instead:\n",
            "\tadd_(Tensor other, *, Number alpha)\n"
          ],
          "name": "stderr"
        },
        {
          "output_type": "stream",
          "text": [
            "Batch    40 of   926. Elapsed: 0:00:05.\n",
            "Batch    80 of   926. Elapsed: 0:00:10.\n",
            "Batch   120 of   926. Elapsed: 0:00:16.\n",
            "Batch   160 of   926. Elapsed: 0:00:21.\n",
            "Batch   200 of   926. Elapsed: 0:00:26.\n",
            "Batch   240 of   926. Elapsed: 0:00:31.\n",
            "Batch   280 of   926. Elapsed: 0:00:36.\n",
            "Batch   320 of   926. Elapsed: 0:00:41.\n",
            "Batch   360 of   926. Elapsed: 0:00:46.\n",
            "Batch   400 of   926. Elapsed: 0:00:51.\n",
            "Batch   440 of   926. Elapsed: 0:00:56.\n",
            "Batch   480 of   926. Elapsed: 0:01:00.\n",
            "Batch   520 of   926. Elapsed: 0:01:05.\n",
            "Batch   560 of   926. Elapsed: 0:01:10.\n",
            "Batch   600 of   926. Elapsed: 0:01:15.\n",
            "Batch   640 of   926. Elapsed: 0:01:20.\n",
            "Batch   680 of   926. Elapsed: 0:01:25.\n",
            "Batch   720 of   926. Elapsed: 0:01:30.\n",
            "Batch   760 of   926. Elapsed: 0:01:35.\n",
            "Batch   800 of   926. Elapsed: 0:01:40.\n",
            "Batch   840 of   926. Elapsed: 0:01:45.\n",
            "Batch   880 of   926. Elapsed: 0:01:50.\n",
            "Batch   920 of   926. Elapsed: 0:01:55.\n",
            " Train Accuracy: 0.93\n",
            "Average training loss: 0.17928609801717826\n",
            "Training epoch took: 0:01:56\n",
            "\n",
            "Running Validation...\n",
            " Accuracy: 0.941033434650456\n",
            " Validation took: 0:00:29\n",
            "=============== Epoch 2 / 4 ======\n",
            "Training...\n",
            "Batch    40 of   926. Elapsed: 0:00:05.\n",
            "Batch    80 of   926. Elapsed: 0:00:10.\n",
            "Batch   120 of   926. Elapsed: 0:00:15.\n",
            "Batch   160 of   926. Elapsed: 0:00:20.\n",
            "Batch   200 of   926. Elapsed: 0:00:25.\n",
            "Batch   240 of   926. Elapsed: 0:00:30.\n",
            "Batch   280 of   926. Elapsed: 0:00:35.\n",
            "Batch   320 of   926. Elapsed: 0:00:40.\n",
            "Batch   360 of   926. Elapsed: 0:00:45.\n",
            "Batch   400 of   926. Elapsed: 0:00:50.\n",
            "Batch   440 of   926. Elapsed: 0:00:55.\n",
            "Batch   480 of   926. Elapsed: 0:01:00.\n",
            "Batch   520 of   926. Elapsed: 0:01:05.\n",
            "Batch   560 of   926. Elapsed: 0:01:10.\n",
            "Batch   600 of   926. Elapsed: 0:01:15.\n",
            "Batch   640 of   926. Elapsed: 0:01:20.\n",
            "Batch   680 of   926. Elapsed: 0:01:25.\n",
            "Batch   720 of   926. Elapsed: 0:01:30.\n",
            "Batch   760 of   926. Elapsed: 0:01:35.\n",
            "Batch   800 of   926. Elapsed: 0:01:40.\n",
            "Batch   840 of   926. Elapsed: 0:01:45.\n",
            "Batch   880 of   926. Elapsed: 0:01:49.\n",
            "Batch   920 of   926. Elapsed: 0:01:54.\n",
            " Train Accuracy: 0.96\n",
            "Average training loss: 0.11794726819516065\n",
            "Training epoch took: 0:01:55\n",
            "\n",
            "Running Validation...\n",
            " Accuracy: 0.9462006079027355\n",
            " Validation took: 0:00:29\n",
            "=============== Epoch 3 / 4 ======\n",
            "Training...\n",
            "Batch    40 of   926. Elapsed: 0:00:05.\n",
            "Batch    80 of   926. Elapsed: 0:00:10.\n",
            "Batch   120 of   926. Elapsed: 0:00:15.\n",
            "Batch   160 of   926. Elapsed: 0:00:20.\n",
            "Batch   200 of   926. Elapsed: 0:00:25.\n",
            "Batch   240 of   926. Elapsed: 0:00:30.\n",
            "Batch   280 of   926. Elapsed: 0:00:35.\n",
            "Batch   320 of   926. Elapsed: 0:00:40.\n",
            "Batch   360 of   926. Elapsed: 0:00:45.\n",
            "Batch   400 of   926. Elapsed: 0:00:50.\n",
            "Batch   440 of   926. Elapsed: 0:00:55.\n",
            "Batch   480 of   926. Elapsed: 0:01:00.\n",
            "Batch   520 of   926. Elapsed: 0:01:05.\n",
            "Batch   560 of   926. Elapsed: 0:01:09.\n",
            "Batch   600 of   926. Elapsed: 0:01:14.\n",
            "Batch   640 of   926. Elapsed: 0:01:19.\n",
            "Batch   680 of   926. Elapsed: 0:01:24.\n",
            "Batch   720 of   926. Elapsed: 0:01:29.\n",
            "Batch   760 of   926. Elapsed: 0:01:34.\n",
            "Batch   800 of   926. Elapsed: 0:01:39.\n",
            "Batch   840 of   926. Elapsed: 0:01:44.\n",
            "Batch   880 of   926. Elapsed: 0:01:49.\n",
            "Batch   920 of   926. Elapsed: 0:01:54.\n",
            " Train Accuracy: 0.97\n",
            "Average training loss: 0.09664508117036995\n",
            "Training epoch took: 0:01:55\n",
            "\n",
            "Running Validation...\n",
            " Accuracy: 0.9477203647416413\n",
            " Validation took: 0:00:29\n",
            "=============== Epoch 4 / 4 ======\n",
            "Training...\n",
            "Batch    40 of   926. Elapsed: 0:00:05.\n",
            "Batch    80 of   926. Elapsed: 0:00:10.\n",
            "Batch   120 of   926. Elapsed: 0:00:15.\n",
            "Batch   160 of   926. Elapsed: 0:00:20.\n",
            "Batch   200 of   926. Elapsed: 0:00:25.\n",
            "Batch   240 of   926. Elapsed: 0:00:30.\n",
            "Batch   280 of   926. Elapsed: 0:00:35.\n",
            "Batch   320 of   926. Elapsed: 0:00:40.\n",
            "Batch   360 of   926. Elapsed: 0:00:45.\n",
            "Batch   400 of   926. Elapsed: 0:00:50.\n",
            "Batch   440 of   926. Elapsed: 0:00:54.\n",
            "Batch   480 of   926. Elapsed: 0:00:59.\n",
            "Batch   520 of   926. Elapsed: 0:01:04.\n",
            "Batch   560 of   926. Elapsed: 0:01:09.\n",
            "Batch   600 of   926. Elapsed: 0:01:14.\n",
            "Batch   640 of   926. Elapsed: 0:01:19.\n",
            "Batch   680 of   926. Elapsed: 0:01:24.\n",
            "Batch   720 of   926. Elapsed: 0:01:29.\n",
            "Batch   760 of   926. Elapsed: 0:01:34.\n",
            "Batch   800 of   926. Elapsed: 0:01:39.\n",
            "Batch   840 of   926. Elapsed: 0:01:44.\n",
            "Batch   880 of   926. Elapsed: 0:01:49.\n",
            "Batch   920 of   926. Elapsed: 0:01:54.\n",
            " Train Accuracy: 0.98\n",
            "Average training loss: 0.07824270795531908\n",
            "Training epoch took: 0:01:55\n",
            "\n",
            "Running Validation...\n",
            " Accuracy: 0.9458966565349544\n",
            " Validation took: 0:00:29\n",
            "\n",
            "Training Complete\n"
          ],
          "name": "stdout"
        }
      ]
    },
    {
      "cell_type": "code",
      "metadata": {
        "id": "LDVmR1mFb6vo",
        "colab_type": "code",
        "outputId": "3b8ac2d7-6512-4719-fcf2-bf25ed1e4ace",
        "colab": {
          "base_uri": "https://localhost:8080/",
          "height": 542
        }
      },
      "source": [
        "import plotly.express as px\n",
        "f = pd.DataFrame(loss_values)\n",
        "f.columns=['Loss']\n",
        "fig = px.line(f, x=f.index, y=f.Loss)\n",
        "fig.update_layout(title='Training loss of the Model',\n",
        "                   xaxis_title='Epoch',\n",
        "                   yaxis_title='Loss')\n",
        "fig.show()"
      ],
      "execution_count": 21,
      "outputs": [
        {
          "output_type": "display_data",
          "data": {
            "text/html": [
              "<html>\n",
              "<head><meta charset=\"utf-8\" /></head>\n",
              "<body>\n",
              "    <div>\n",
              "            <script src=\"https://cdnjs.cloudflare.com/ajax/libs/mathjax/2.7.5/MathJax.js?config=TeX-AMS-MML_SVG\"></script><script type=\"text/javascript\">if (window.MathJax) {MathJax.Hub.Config({SVG: {font: \"STIX-Web\"}});}</script>\n",
              "                <script type=\"text/javascript\">window.PlotlyConfig = {MathJaxConfig: 'local'};</script>\n",
              "        <script src=\"https://cdn.plot.ly/plotly-latest.min.js\"></script>    \n",
              "            <div id=\"a3b6fd1f-b68a-4df1-b752-4e2552f11b8e\" class=\"plotly-graph-div\" style=\"height:525px; width:100%;\"></div>\n",
              "            <script type=\"text/javascript\">\n",
              "                \n",
              "                    window.PLOTLYENV=window.PLOTLYENV || {};\n",
              "                    \n",
              "                if (document.getElementById(\"a3b6fd1f-b68a-4df1-b752-4e2552f11b8e\")) {\n",
              "                    Plotly.newPlot(\n",
              "                        'a3b6fd1f-b68a-4df1-b752-4e2552f11b8e',\n",
              "                        [{\"hoverlabel\": {\"namelength\": 0}, \"hovertemplate\": \"index=%{x}<br>Loss=%{y}\", \"legendgroup\": \"\", \"line\": {\"color\": \"#636efa\", \"dash\": \"solid\"}, \"mode\": \"lines\", \"name\": \"\", \"showlegend\": false, \"type\": \"scatter\", \"x\": [0, 1, 2, 3], \"xaxis\": \"x\", \"y\": [0.17928609801717826, 0.11794726819516065, 0.09664508117036995, 0.07824270795531908], \"yaxis\": \"y\"}],\n",
              "                        {\"legend\": {\"tracegroupgap\": 0}, \"margin\": {\"t\": 60}, \"template\": {\"data\": {\"bar\": [{\"error_x\": {\"color\": \"#2a3f5f\"}, \"error_y\": {\"color\": \"#2a3f5f\"}, \"marker\": {\"line\": {\"color\": \"#E5ECF6\", \"width\": 0.5}}, \"type\": \"bar\"}], \"barpolar\": [{\"marker\": {\"line\": {\"color\": \"#E5ECF6\", \"width\": 0.5}}, \"type\": \"barpolar\"}], \"carpet\": [{\"aaxis\": {\"endlinecolor\": \"#2a3f5f\", \"gridcolor\": \"white\", \"linecolor\": \"white\", \"minorgridcolor\": \"white\", \"startlinecolor\": \"#2a3f5f\"}, \"baxis\": {\"endlinecolor\": \"#2a3f5f\", \"gridcolor\": \"white\", \"linecolor\": \"white\", \"minorgridcolor\": \"white\", \"startlinecolor\": \"#2a3f5f\"}, \"type\": \"carpet\"}], \"choropleth\": [{\"colorbar\": {\"outlinewidth\": 0, \"ticks\": \"\"}, \"type\": \"choropleth\"}], \"contour\": [{\"colorbar\": {\"outlinewidth\": 0, \"ticks\": \"\"}, \"colorscale\": [[0.0, \"#0d0887\"], [0.1111111111111111, \"#46039f\"], [0.2222222222222222, \"#7201a8\"], [0.3333333333333333, \"#9c179e\"], [0.4444444444444444, \"#bd3786\"], [0.5555555555555556, \"#d8576b\"], [0.6666666666666666, \"#ed7953\"], [0.7777777777777778, \"#fb9f3a\"], [0.8888888888888888, \"#fdca26\"], [1.0, \"#f0f921\"]], \"type\": \"contour\"}], \"contourcarpet\": [{\"colorbar\": {\"outlinewidth\": 0, \"ticks\": \"\"}, \"type\": \"contourcarpet\"}], \"heatmap\": [{\"colorbar\": {\"outlinewidth\": 0, \"ticks\": \"\"}, \"colorscale\": [[0.0, \"#0d0887\"], [0.1111111111111111, \"#46039f\"], [0.2222222222222222, \"#7201a8\"], [0.3333333333333333, \"#9c179e\"], [0.4444444444444444, \"#bd3786\"], [0.5555555555555556, \"#d8576b\"], [0.6666666666666666, \"#ed7953\"], [0.7777777777777778, \"#fb9f3a\"], [0.8888888888888888, \"#fdca26\"], [1.0, \"#f0f921\"]], \"type\": \"heatmap\"}], \"heatmapgl\": [{\"colorbar\": {\"outlinewidth\": 0, \"ticks\": \"\"}, \"colorscale\": [[0.0, \"#0d0887\"], [0.1111111111111111, \"#46039f\"], [0.2222222222222222, \"#7201a8\"], [0.3333333333333333, \"#9c179e\"], [0.4444444444444444, \"#bd3786\"], [0.5555555555555556, \"#d8576b\"], [0.6666666666666666, \"#ed7953\"], [0.7777777777777778, \"#fb9f3a\"], [0.8888888888888888, \"#fdca26\"], [1.0, \"#f0f921\"]], \"type\": \"heatmapgl\"}], \"histogram\": [{\"marker\": {\"colorbar\": {\"outlinewidth\": 0, \"ticks\": \"\"}}, \"type\": \"histogram\"}], \"histogram2d\": [{\"colorbar\": {\"outlinewidth\": 0, \"ticks\": \"\"}, \"colorscale\": [[0.0, \"#0d0887\"], [0.1111111111111111, \"#46039f\"], [0.2222222222222222, \"#7201a8\"], [0.3333333333333333, \"#9c179e\"], [0.4444444444444444, \"#bd3786\"], [0.5555555555555556, \"#d8576b\"], [0.6666666666666666, \"#ed7953\"], [0.7777777777777778, \"#fb9f3a\"], [0.8888888888888888, \"#fdca26\"], [1.0, \"#f0f921\"]], \"type\": \"histogram2d\"}], \"histogram2dcontour\": [{\"colorbar\": {\"outlinewidth\": 0, \"ticks\": \"\"}, \"colorscale\": [[0.0, \"#0d0887\"], [0.1111111111111111, \"#46039f\"], [0.2222222222222222, \"#7201a8\"], [0.3333333333333333, \"#9c179e\"], [0.4444444444444444, \"#bd3786\"], [0.5555555555555556, \"#d8576b\"], [0.6666666666666666, \"#ed7953\"], [0.7777777777777778, \"#fb9f3a\"], [0.8888888888888888, \"#fdca26\"], [1.0, \"#f0f921\"]], \"type\": \"histogram2dcontour\"}], \"mesh3d\": [{\"colorbar\": {\"outlinewidth\": 0, \"ticks\": \"\"}, \"type\": \"mesh3d\"}], \"parcoords\": [{\"line\": {\"colorbar\": {\"outlinewidth\": 0, \"ticks\": \"\"}}, \"type\": \"parcoords\"}], \"pie\": [{\"automargin\": true, \"type\": \"pie\"}], \"scatter\": [{\"marker\": {\"colorbar\": {\"outlinewidth\": 0, \"ticks\": \"\"}}, \"type\": \"scatter\"}], \"scatter3d\": [{\"line\": {\"colorbar\": {\"outlinewidth\": 0, \"ticks\": \"\"}}, \"marker\": {\"colorbar\": {\"outlinewidth\": 0, \"ticks\": \"\"}}, \"type\": \"scatter3d\"}], \"scattercarpet\": [{\"marker\": {\"colorbar\": {\"outlinewidth\": 0, \"ticks\": \"\"}}, \"type\": \"scattercarpet\"}], \"scattergeo\": [{\"marker\": {\"colorbar\": {\"outlinewidth\": 0, \"ticks\": \"\"}}, \"type\": \"scattergeo\"}], \"scattergl\": [{\"marker\": {\"colorbar\": {\"outlinewidth\": 0, \"ticks\": \"\"}}, \"type\": \"scattergl\"}], \"scattermapbox\": [{\"marker\": {\"colorbar\": {\"outlinewidth\": 0, \"ticks\": \"\"}}, \"type\": \"scattermapbox\"}], \"scatterpolar\": [{\"marker\": {\"colorbar\": {\"outlinewidth\": 0, \"ticks\": \"\"}}, \"type\": \"scatterpolar\"}], \"scatterpolargl\": [{\"marker\": {\"colorbar\": {\"outlinewidth\": 0, \"ticks\": \"\"}}, \"type\": \"scatterpolargl\"}], \"scatterternary\": [{\"marker\": {\"colorbar\": {\"outlinewidth\": 0, \"ticks\": \"\"}}, \"type\": \"scatterternary\"}], \"surface\": [{\"colorbar\": {\"outlinewidth\": 0, \"ticks\": \"\"}, \"colorscale\": [[0.0, \"#0d0887\"], [0.1111111111111111, \"#46039f\"], [0.2222222222222222, \"#7201a8\"], [0.3333333333333333, \"#9c179e\"], [0.4444444444444444, \"#bd3786\"], [0.5555555555555556, \"#d8576b\"], [0.6666666666666666, \"#ed7953\"], [0.7777777777777778, \"#fb9f3a\"], [0.8888888888888888, \"#fdca26\"], [1.0, \"#f0f921\"]], \"type\": \"surface\"}], \"table\": [{\"cells\": {\"fill\": {\"color\": \"#EBF0F8\"}, \"line\": {\"color\": \"white\"}}, \"header\": {\"fill\": {\"color\": \"#C8D4E3\"}, \"line\": {\"color\": \"white\"}}, \"type\": \"table\"}]}, \"layout\": {\"annotationdefaults\": {\"arrowcolor\": \"#2a3f5f\", \"arrowhead\": 0, \"arrowwidth\": 1}, \"coloraxis\": {\"colorbar\": {\"outlinewidth\": 0, \"ticks\": \"\"}}, \"colorscale\": {\"diverging\": [[0, \"#8e0152\"], [0.1, \"#c51b7d\"], [0.2, \"#de77ae\"], [0.3, \"#f1b6da\"], [0.4, \"#fde0ef\"], [0.5, \"#f7f7f7\"], [0.6, \"#e6f5d0\"], [0.7, \"#b8e186\"], [0.8, \"#7fbc41\"], [0.9, \"#4d9221\"], [1, \"#276419\"]], \"sequential\": [[0.0, \"#0d0887\"], [0.1111111111111111, \"#46039f\"], [0.2222222222222222, \"#7201a8\"], [0.3333333333333333, \"#9c179e\"], [0.4444444444444444, \"#bd3786\"], [0.5555555555555556, \"#d8576b\"], [0.6666666666666666, \"#ed7953\"], [0.7777777777777778, \"#fb9f3a\"], [0.8888888888888888, \"#fdca26\"], [1.0, \"#f0f921\"]], \"sequentialminus\": [[0.0, \"#0d0887\"], [0.1111111111111111, \"#46039f\"], [0.2222222222222222, \"#7201a8\"], [0.3333333333333333, \"#9c179e\"], [0.4444444444444444, \"#bd3786\"], [0.5555555555555556, \"#d8576b\"], [0.6666666666666666, \"#ed7953\"], [0.7777777777777778, \"#fb9f3a\"], [0.8888888888888888, \"#fdca26\"], [1.0, \"#f0f921\"]]}, \"colorway\": [\"#636efa\", \"#EF553B\", \"#00cc96\", \"#ab63fa\", \"#FFA15A\", \"#19d3f3\", \"#FF6692\", \"#B6E880\", \"#FF97FF\", \"#FECB52\"], \"font\": {\"color\": \"#2a3f5f\"}, \"geo\": {\"bgcolor\": \"white\", \"lakecolor\": \"white\", \"landcolor\": \"#E5ECF6\", \"showlakes\": true, \"showland\": true, \"subunitcolor\": \"white\"}, \"hoverlabel\": {\"align\": \"left\"}, \"hovermode\": \"closest\", \"mapbox\": {\"style\": \"light\"}, \"paper_bgcolor\": \"white\", \"plot_bgcolor\": \"#E5ECF6\", \"polar\": {\"angularaxis\": {\"gridcolor\": \"white\", \"linecolor\": \"white\", \"ticks\": \"\"}, \"bgcolor\": \"#E5ECF6\", \"radialaxis\": {\"gridcolor\": \"white\", \"linecolor\": \"white\", \"ticks\": \"\"}}, \"scene\": {\"xaxis\": {\"backgroundcolor\": \"#E5ECF6\", \"gridcolor\": \"white\", \"gridwidth\": 2, \"linecolor\": \"white\", \"showbackground\": true, \"ticks\": \"\", \"zerolinecolor\": \"white\"}, \"yaxis\": {\"backgroundcolor\": \"#E5ECF6\", \"gridcolor\": \"white\", \"gridwidth\": 2, \"linecolor\": \"white\", \"showbackground\": true, \"ticks\": \"\", \"zerolinecolor\": \"white\"}, \"zaxis\": {\"backgroundcolor\": \"#E5ECF6\", \"gridcolor\": \"white\", \"gridwidth\": 2, \"linecolor\": \"white\", \"showbackground\": true, \"ticks\": \"\", \"zerolinecolor\": \"white\"}}, \"shapedefaults\": {\"line\": {\"color\": \"#2a3f5f\"}}, \"ternary\": {\"aaxis\": {\"gridcolor\": \"white\", \"linecolor\": \"white\", \"ticks\": \"\"}, \"baxis\": {\"gridcolor\": \"white\", \"linecolor\": \"white\", \"ticks\": \"\"}, \"bgcolor\": \"#E5ECF6\", \"caxis\": {\"gridcolor\": \"white\", \"linecolor\": \"white\", \"ticks\": \"\"}}, \"title\": {\"x\": 0.05}, \"xaxis\": {\"automargin\": true, \"gridcolor\": \"white\", \"linecolor\": \"white\", \"ticks\": \"\", \"title\": {\"standoff\": 15}, \"zerolinecolor\": \"white\", \"zerolinewidth\": 2}, \"yaxis\": {\"automargin\": true, \"gridcolor\": \"white\", \"linecolor\": \"white\", \"ticks\": \"\", \"title\": {\"standoff\": 15}, \"zerolinecolor\": \"white\", \"zerolinewidth\": 2}}}, \"title\": {\"text\": \"Training loss of the Model\"}, \"xaxis\": {\"anchor\": \"y\", \"domain\": [0.0, 1.0], \"title\": {\"text\": \"Epoch\"}}, \"yaxis\": {\"anchor\": \"x\", \"domain\": [0.0, 1.0], \"title\": {\"text\": \"Loss\"}}},\n",
              "                        {\"responsive\": true}\n",
              "                    ).then(function(){\n",
              "                            \n",
              "var gd = document.getElementById('a3b6fd1f-b68a-4df1-b752-4e2552f11b8e');\n",
              "var x = new MutationObserver(function (mutations, observer) {{\n",
              "        var display = window.getComputedStyle(gd).display;\n",
              "        if (!display || display === 'none') {{\n",
              "            console.log([gd, 'removed!']);\n",
              "            Plotly.purge(gd);\n",
              "            observer.disconnect();\n",
              "        }}\n",
              "}});\n",
              "\n",
              "// Listen for the removal of the full notebook cells\n",
              "var notebookContainer = gd.closest('#notebook-container');\n",
              "if (notebookContainer) {{\n",
              "    x.observe(notebookContainer, {childList: true});\n",
              "}}\n",
              "\n",
              "// Listen for the clearing of the current output cell\n",
              "var outputEl = gd.closest('.output');\n",
              "if (outputEl) {{\n",
              "    x.observe(outputEl, {childList: true});\n",
              "}}\n",
              "\n",
              "                        })\n",
              "                };\n",
              "                \n",
              "            </script>\n",
              "        </div>\n",
              "</body>\n",
              "</html>"
            ]
          },
          "metadata": {
            "tags": []
          }
        }
      ]
    },
    {
      "cell_type": "code",
      "metadata": {
        "id": "ZgOZgYz4cA5L",
        "colab_type": "code",
        "colab": {}
      },
      "source": [
        "from transformers import WEIGHTS_NAME, CONFIG_NAME\n",
        "import os\n",
        "\n",
        "output_dir = \"./models/\"\n",
        "\n",
        "output_model_file = os.path.join(output_dir, WEIGHTS_NAME)\n",
        "output_config_file = os.path.join(output_dir, CONFIG_NAME)\n"
      ],
      "execution_count": 0,
      "outputs": []
    },
    {
      "cell_type": "code",
      "metadata": {
        "id": "COe0i0te-_o_",
        "colab_type": "code",
        "outputId": "0d3eeda0-4142-4703-bf71-0eff01252d6d",
        "colab": {
          "base_uri": "https://localhost:8080/",
          "height": 68
        }
      },
      "source": [
        "model.to('cpu')\n",
        "\n",
        "model_to_save = model.module if hasattr(model, 'module') else model\n",
        "\n",
        "torch.save(model_to_save.state_dict(), output_model_file)\n",
        "model_to_save.config.to_json_file(output_config_file)\n",
        "tokenizer.save_pretrained(output_dir)\n",
        "\n",
        "\n",
        "# torch.save(model, f'models/leadsherpa-bert2')\n",
        "# torch.save(tokenizer, f'models/leadsherpa-bert-tokenizer2')"
      ],
      "execution_count": 23,
      "outputs": [
        {
          "output_type": "execute_result",
          "data": {
            "text/plain": [
              "('./models/vocab.txt',\n",
              " './models/special_tokens_map.json',\n",
              " './models/added_tokens.json')"
            ]
          },
          "metadata": {
            "tags": []
          },
          "execution_count": 23
        }
      ]
    },
    {
      "cell_type": "code",
      "metadata": {
        "id": "fgWdAQDJWhIC",
        "colab_type": "code",
        "colab": {
          "base_uri": "https://localhost:8080/",
          "height": 34
        },
        "outputId": "2a1b2c83-42dc-401f-c509-ea77c6055527"
      },
      "source": [
        "output_config_file"
      ],
      "execution_count": 27,
      "outputs": [
        {
          "output_type": "execute_result",
          "data": {
            "text/plain": [
              "'./models/config.json'"
            ]
          },
          "metadata": {
            "tags": []
          },
          "execution_count": 27
        }
      ]
    },
    {
      "cell_type": "markdown",
      "metadata": {
        "id": "8Z2PDsKg2mBk",
        "colab_type": "text"
      },
      "source": [
        "## Serving the Model\n",
        "\n",
        "\n",
        "```\n",
        "0. After training is complete, make sure to change model device to cpu before saving the model\n",
        "1. Load tokenizer\n",
        "2. Load saved model\n",
        "3. receive sentence/text\n",
        "2. preprocess text\n",
        "    - encode/tokenize sentence with attention mask, padding, trimming to max length\n",
        "    - convert the tokenized input sequence into torch tensors\n",
        "    - set the model to eval mode\n",
        "    - set torch to no_grad() and run the sequence thru the model\n",
        "    - get the logit outputs\n",
        "    - get the index with the maximum logit value\n",
        "```\n",
        "\n"
      ]
    },
    {
      "cell_type": "code",
      "metadata": {
        "id": "A_p1hD03VLPJ",
        "colab_type": "code",
        "colab": {}
      },
      "source": [
        "# model = torch.load('leadsherpa-bert').to('cpu')\n",
        "# tokenizer = torch.load('leadsherpa-bert-tokenizer')\n",
        "\n",
        "model = BertForSequenceClassification.from_pretrained(output_dir)\n",
        "tokenizer = BertTokenizer.from_pretrained(output_dir)  \n",
        "\n",
        "def process_sequence_and_attention(tokenizer, sentence, **kwargs):\n",
        "\n",
        "    encoded_sentence = tokenizer.encode(\n",
        "        text=sentence, \n",
        "        add_special_tokens=True,\n",
        "        max_length=32,\n",
        "        pad_to_max_length=True, \n",
        "    )\n",
        "\n",
        "    attention_masks = [ 0 if x==0 else 1 for x in encoded_sentence ]\n",
        "    \n",
        "    att_mask_tensor = torch.tensor([attention_masks])\n",
        "    encoded_tensor = torch.tensor([encoded_sentence])\n",
        "    \n",
        "    return encoded_tensor, att_mask_tensor\n",
        "    "
      ],
      "execution_count": 0,
      "outputs": []
    },
    {
      "cell_type": "code",
      "metadata": {
        "id": "56gBTrgHYePR",
        "colab_type": "code",
        "colab": {}
      },
      "source": [
        "\n",
        "def make_predictions(model, encoded_sentence, attention_mask, token_type_id=None):\n",
        "    \n",
        "    model.eval()\n",
        "    with torch.no_grad():\n",
        "        \n",
        "        preds = model(\n",
        "                    encoded_sentence,\n",
        "                    token_type_ids=token_type_id,\n",
        "                    attention_mask=attention_mask\n",
        "                ) \n",
        "            # labels are not passed here in validation\n",
        "            # Get the \"logits\" output by the model. The \"logits\" are the output\n",
        "            # values prior to applying an activation function like softmax\n",
        "        \n",
        "        logits = preds[0]\n",
        "        probabilities = torch.nn.functional.softmax(logits, dim=1)        \n",
        "        probabilities = probabilities.detach().cpu().numpy()\n",
        "        # Move logits and labels to CPU\n",
        "\n",
        "    return probabilities[-1].round(5)\n",
        "\n",
        "# logits, label_names_ids[np.argmax(logits, axis=1)[-1]]\n"
      ],
      "execution_count": 0,
      "outputs": []
    },
    {
      "cell_type": "code",
      "metadata": {
        "id": "5QwQtLCWYh-k",
        "colab_type": "code",
        "colab": {}
      },
      "source": [
        "model = torch.load('leadsherpa-bert').to('cpu')\n",
        "tokenizer = torch.load('leadsherpa-bert-tokenizer')\n"
      ],
      "execution_count": 0,
      "outputs": []
    }
  ]
}
