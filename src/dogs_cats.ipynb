{
 "cells": [
  {
   "cell_type": "code",
   "execution_count": 167,
   "metadata": {
    "collapsed": false
   },
   "outputs": [
    {
     "data": {
      "text/plain": [
       "'th'"
      ]
     },
     "execution_count": 167,
     "metadata": {},
     "output_type": "execute_result"
    }
   ],
   "source": [
    "%matplotlib inline\n",
    "import keras\n",
    "from keras.datasets import cifar10\n",
    "from keras.preprocessing.image import ImageDataGenerator, array_to_img, img_to_array, load_img\n",
    "import numpy as np\n",
    "from keras.models import Sequential\n",
    "from keras.layers import Conv2D, MaxPooling2D\n",
    "from keras.layers import Activation, Dropout, Flatten, Dense\n",
    "from matplotlib import pyplot as plt\n",
    "from keras.optimizers import SGD, RMSprop\n",
    "from scipy.misc import imresize\n",
    "from keras import backend as K\n",
    "K.set_image_dim_ordering('th')\n",
    "K.image_dim_ordering()"
   ]
  },
  {
   "cell_type": "code",
   "execution_count": 5,
   "metadata": {
    "collapsed": false
   },
   "outputs": [],
   "source": [
    "def reducex(X, y, reduce_classes=None, reduce_percent=.2):\n",
    "#     import pdb; pdb.set_trace()\n",
    "    idxs = []\n",
    "    if reduce_classes:\n",
    "        for c in reduce_classes:\n",
    "            try:\n",
    "                idxs += list(np.where(y == c)[0])\n",
    "            except IndexError:\n",
    "                continue\n",
    "    np.random.seed(1000)\n",
    "    new_size = int(np.round(len(idxs) * reduce_percent))\n",
    "    np.random.shuffle(idxs)\n",
    "    return (X[idxs[:int(len(idxs)*reduce_percent)]], y[idxs[:int(len(idxs)*reduce_percent)]] == 3)\n",
    "\n",
    "batch_size = 16"
   ]
  },
  {
   "cell_type": "code",
   "execution_count": 181,
   "metadata": {
    "collapsed": true
   },
   "outputs": [],
   "source": [
    "(Xtrain, ytrain), (Xtest, ytest) = cifar10.load_data()\n",
    "\n",
    "train_datagen = ImageDataGenerator(\n",
    "            rotation_range=40,\n",
    "            width_shift_range=0.2,\n",
    "            height_shift_range=0.2,\n",
    "            shear_range=0.2,\n",
    "            zoom_range=0.2,\n",
    "            horizontal_flip=True,\n",
    "            fill_mode='nearest')\n",
    "\n",
    "test_datagen = ImageDataGenerator(rescale=1./255)\n",
    "\n",
    "Xtrain, ytrain = reducex(Xtrain, ytrain, reduce_classes=[3,5], reduce_percent=0.3)\n",
    "Xtest, ytest = reducex(Xtest, ytest, reduce_classes=[3,5], reduce_percent=0.3)\n",
    "\n",
    "yetrain = keras.utils.to_categorical(ytrain)\n",
    "yetest = keras.utils.to_categorical(ytest)"
   ]
  },
  {
   "cell_type": "code",
   "execution_count": 187,
   "metadata": {
    "collapsed": false
   },
   "outputs": [
    {
     "ename": "MemoryError",
     "evalue": "",
     "output_type": "error",
     "traceback": [
      "\u001b[1;31m---------------------------------------------------------------------------\u001b[0m",
      "\u001b[1;31mMemoryError\u001b[0m                               Traceback (most recent call last)",
      "\u001b[1;32m<ipython-input-187-15063be704f4>\u001b[0m in \u001b[0;36m<module>\u001b[1;34m()\u001b[0m\n\u001b[0;32m      1\u001b[0m \u001b[1;31m######## Resize cifar10 images to 3x48x48 #############\u001b[0m\u001b[1;33m\u001b[0m\u001b[1;33m\u001b[0m\u001b[0m\n\u001b[0;32m      2\u001b[0m \u001b[0mrsize\u001b[0m \u001b[1;33m=\u001b[0m \u001b[1;36m224\u001b[0m\u001b[1;33m\u001b[0m\u001b[0m\n\u001b[1;32m----> 3\u001b[1;33m \u001b[0mtemp\u001b[0m \u001b[1;33m=\u001b[0m \u001b[0mnp\u001b[0m\u001b[1;33m.\u001b[0m\u001b[0mzeros\u001b[0m\u001b[1;33m(\u001b[0m\u001b[1;33m(\u001b[0m\u001b[0mXtrain\u001b[0m\u001b[1;33m.\u001b[0m\u001b[0mshape\u001b[0m\u001b[1;33m[\u001b[0m\u001b[1;36m0\u001b[0m\u001b[1;33m]\u001b[0m\u001b[1;33m,\u001b[0m \u001b[1;36m3\u001b[0m\u001b[1;33m,\u001b[0m \u001b[0mrsize\u001b[0m\u001b[1;33m,\u001b[0m \u001b[0mrsize\u001b[0m\u001b[1;33m)\u001b[0m\u001b[1;33m)\u001b[0m\u001b[1;33m\u001b[0m\u001b[0m\n\u001b[0m\u001b[0;32m      4\u001b[0m \u001b[1;33m\u001b[0m\u001b[0m\n\u001b[0;32m      5\u001b[0m \u001b[1;32mfor\u001b[0m \u001b[0mi\u001b[0m\u001b[1;33m,\u001b[0m \u001b[0mrow\u001b[0m \u001b[1;32min\u001b[0m \u001b[0menumerate\u001b[0m\u001b[1;33m(\u001b[0m\u001b[0mXtrain\u001b[0m\u001b[1;33m)\u001b[0m\u001b[1;33m:\u001b[0m\u001b[1;33m\u001b[0m\u001b[0m\n",
      "\u001b[1;31mMemoryError\u001b[0m: "
     ]
    }
   ],
   "source": [
    "######## Resize cifar10 images to 3x48x48 #############\n",
    "rsize = 224\n",
    "temp = np.zeros((Xtrain.shape[0], 3, rsize, rsize))\n",
    "\n",
    "for i, row in enumerate(Xtrain):\n",
    "    temp[i] = imresize(row, size=(48,48)).transpose(2,1,0)\n",
    "\n",
    "temp2 = np.zeros((Xtrain.shape[0], 3, 48, 48))\n",
    "for i in Xtest:\n",
    "    temp2[i] = imresize(row, size=(48,48)).transpose(2,1,0)\n",
    "\n",
    "Xtrain = temp\n",
    "Xtest = temp2"
   ]
  },
  {
   "cell_type": "code",
   "execution_count": 62,
   "metadata": {
    "collapsed": false
   },
   "outputs": [
    {
     "name": "stdout",
     "output_type": "stream",
     "text": [
      "0 1\n",
      "1 0\n",
      "1 1\n",
      "[ True]\n"
     ]
    },
    {
     "data": {
      "image/png": "[encoded data removed]",
      "text/plain": [
       "<matplotlib.figure.Figure at 0x2772de80>"
      ]
     },
     "metadata": {},
     "output_type": "display_data"
    }
   ],
   "source": [
    "# img = load_img('data/train/cats/cat.0.jpg')  # this is a PIL image\n",
    "# x = img_to_array(img)  # this is a Numpy array with shape (3, 150, 150)\n",
    "x = Xtrain[8]\n",
    "x = x.reshape((1,) + x.shape)  # this is a Numpy array with shape (1, 3, 150, 150)\n",
    "# the .flow() command below generates batches of randomly transformed images\n",
    "# and saves the results to the `preview/` directory\n",
    "i = 0\n",
    "j = 0\n",
    "xims = []\n",
    "fig, axes = plt.subplots(2,2,figsize=(12,8))\n",
    "for batch in datagen.flow(x, batch_size=1):\n",
    "    axes[j][i].set_axis_off()\n",
    "    axes[j][i].imshow(batch.reshape(x.shape[1:]).transpose(2,1,0), interpolation='nearest')\n",
    "    if i >= 1:\n",
    "        j += 1\n",
    "        i = -1\n",
    "    if j == 2:\n",
    "        break\n",
    "    i +=1 \n",
    "    print j,i\n",
    "    \n",
    "# plt.imshow(Xtrain[0].reshape(32,32,3))\n",
    "# fig, axes1 = plt.subplots(2,2,figsize=(12,8))\n",
    "# for j in range(5):\n",
    "#     for k in range(5):\n",
    "#         i = np.random.choice(range(len(X)))\n",
    "#         axes1[j][k].set_axis_off()\n",
    "#         axes1[j][k].imshow(X[i:i+1][0], interpolation='nearest')\n",
    "print ytrain[8]"
   ]
  },
  {
   "cell_type": "code",
   "execution_count": 188,
   "metadata": {
    "collapsed": true
   },
   "outputs": [],
   "source": [
    "??VGG16"
   ]
  },
  {
   "cell_type": "code",
   "execution_count": 61,
   "metadata": {
    "collapsed": false
   },
   "outputs": [
    {
     "data": {
      "text/plain": [
       "((3L, 48L, 48L), (3L, 32L, 32L))"
      ]
     },
     "execution_count": 61,
     "metadata": {},
     "output_type": "execute_result"
    }
   ],
   "source": [
    "# set(list(ytrain.reshape(-1)))\n",
    "# keras.utils.to_categorical(list(ytrain.reshape(-1)))\n",
    "t = imresize(Xtrain[0], size=(48,48)).transpose(2,1,0)\n",
    "t.shape, Xtrain[0].shape"
   ]
  },
  {
   "cell_type": "code",
   "execution_count": 97,
   "metadata": {
    "collapsed": false
   },
   "outputs": [],
   "source": [
    "train_generator = datagen.flow(Xtrain,yetrain,\n",
    "        batch_size=batch_size)  # since we use binary_crossentropy loss, we need binary labels\n",
    "\n",
    "# this is a similar generator, for validation data\n",
    "validation_generator = test_datagen.flow(Xtest, yetest,\n",
    "        batch_size=batch_size)"
   ]
  },
  {
   "cell_type": "code",
   "execution_count": 98,
   "metadata": {
    "collapsed": false
   },
   "outputs": [
    {
     "name": "stdout",
     "output_type": "stream",
     "text": [
      "_________________________________________________________________\n",
      "Layer (type)                 Output Shape              Param #   \n",
      "=================================================================\n",
      "conv2d_4 (Conv2D)            (None, 32, 30, 30)        896       \n",
      "_________________________________________________________________\n",
      "activation_6 (Activation)    (None, 32, 30, 30)        0         \n",
      "_________________________________________________________________\n",
      "max_pooling2d_4 (MaxPooling2 (None, 32, 15, 15)        0         \n",
      "_________________________________________________________________\n",
      "conv2d_5 (Conv2D)            (None, 32, 13, 13)        9248      \n",
      "_________________________________________________________________\n",
      "activation_7 (Activation)    (None, 32, 13, 13)        0         \n",
      "_________________________________________________________________\n",
      "max_pooling2d_5 (MaxPooling2 (None, 32, 6, 6)          0         \n",
      "_________________________________________________________________\n",
      "conv2d_6 (Conv2D)            (None, 64, 4, 4)          18496     \n",
      "_________________________________________________________________\n",
      "activation_8 (Activation)    (None, 64, 4, 4)          0         \n",
      "_________________________________________________________________\n",
      "max_pooling2d_6 (MaxPooling2 (None, 64, 2, 2)          0         \n",
      "_________________________________________________________________\n",
      "flatten_6 (Flatten)          (None, 256)               0         \n",
      "_________________________________________________________________\n",
      "dense_7 (Dense)              (None, 32)                8224      \n",
      "_________________________________________________________________\n",
      "activation_9 (Activation)    (None, 32)                0         \n",
      "_________________________________________________________________\n",
      "dropout_4 (Dropout)          (None, 32)                0         \n",
      "_________________________________________________________________\n",
      "dense_8 (Dense)              (None, 2)                 66        \n",
      "_________________________________________________________________\n",
      "activation_10 (Activation)   (None, 2)                 0         \n",
      "=================================================================\n",
      "Total params: 36,930.0\n",
      "Trainable params: 36,930.0\n",
      "Non-trainable params: 0.0\n",
      "_________________________________________________________________\n",
      "None\n"
     ]
    }
   ],
   "source": [
    "model = Sequential()\n",
    "model.add(Conv2D(32, (3, 3), input_shape=(3, 32, 32)))\n",
    "model.add(Activation('relu'))\n",
    "model.add(MaxPooling2D(pool_size=(2, 2)))\n",
    "\n",
    "model.add(Conv2D(32, (3, 3)))\n",
    "model.add(Activation('relu'))\n",
    "model.add(MaxPooling2D(pool_size=(2, 2)))\n",
    "model.add(Conv2D(64, (3, 3)))\n",
    "model.add(Activation('relu'))\n",
    "model.add(MaxPooling2D(pool_size=(2, 2)))\n",
    "model.add(Flatten()) # this converts our 3D feature maps to 1D feature vectors\n",
    "model.add(Dense(32))\n",
    "model.add(Activation('relu'))\n",
    "model.add(Dropout(0.5))\n",
    "model.add(Dense(2))\n",
    "model.add(Activation('sigmoid'))\n",
    "print(model.summary())\n"
   ]
  },
  {
   "cell_type": "code",
   "execution_count": 99,
   "metadata": {
    "collapsed": true
   },
   "outputs": [],
   "source": [
    "model.compile(loss='binary_crossentropy',\n",
    "              optimizer='rmsprop',\n",
    "              metrics=['accuracy'])"
   ]
  },
  {
   "cell_type": "code",
   "execution_count": 100,
   "metadata": {
    "collapsed": false,
    "scrolled": true
   },
   "outputs": [
    {
     "name": "stdout",
     "output_type": "stream",
     "text": [
      "Epoch 1/15\n",
      "7/7 [==============================] - 2s - loss: 4.0395 - acc: 0.5257 - val_loss: 0.6932 - val_acc: 0.5117\n",
      "Epoch 2/15\n",
      "7/7 [==============================] - 1s - loss: 0.7200 - acc: 0.4900 - val_loss: 0.6930 - val_acc: 0.5000\n",
      "Epoch 3/15\n",
      "7/7 [==============================] - 1s - loss: 0.6975 - acc: 0.4944 - val_loss: 0.6933 - val_acc: 0.5000\n",
      "Epoch 4/15\n",
      "7/7 [==============================] - 1s - loss: 0.6943 - acc: 0.4989 - val_loss: 0.6929 - val_acc: 0.5000\n",
      "Epoch 5/15\n",
      "7/7 [==============================] - 1s - loss: 0.6959 - acc: 0.5033 - val_loss: 0.6931 - val_acc: 0.5000\n",
      "Epoch 6/15\n",
      "7/7 [==============================] - 1s - loss: 0.6933 - acc: 0.5045 - val_loss: 0.6934 - val_acc: 0.4745\n",
      "Epoch 7/15\n",
      "7/7 [==============================] - 2s - loss: 0.7386 - acc: 0.5206 - val_loss: 0.6929 - val_acc: 0.5234\n",
      "Epoch 8/15\n",
      "7/7 [==============================] - 1s - loss: 0.6934 - acc: 0.5212 - val_loss: 0.6929 - val_acc: 0.5185\n",
      "Epoch 9/15\n",
      "7/7 [==============================] - 1s - loss: 0.6928 - acc: 0.4743 - val_loss: 0.6932 - val_acc: 0.4961\n",
      "Epoch 10/15\n",
      "7/7 [==============================] - 1s - loss: 0.7018 - acc: 0.5112 - val_loss: 0.6933 - val_acc: 0.4883\n",
      "Epoch 11/15\n",
      "7/7 [==============================] - 1s - loss: 0.6928 - acc: 0.5290 - val_loss: 0.6930 - val_acc: 0.5093\n",
      "Epoch 12/15\n",
      "7/7 [==============================] - 1s - loss: 0.6937 - acc: 0.4621 - val_loss: 0.6930 - val_acc: 0.5156\n",
      "Epoch 13/15\n",
      "7/7 [==============================] - 1s - loss: 0.7619 - acc: 0.5179 - val_loss: 0.6928 - val_acc: 0.5278\n",
      "Epoch 14/15\n",
      "7/7 [==============================] - 1s - loss: 0.8200 - acc: 0.5316 - val_loss: 0.6935 - val_acc: 0.4805\n",
      "Epoch 15/15\n",
      "7/7 [==============================] - 1s - loss: 0.6959 - acc: 0.5045 - val_loss: 0.6928 - val_acc: 0.5273\n"
     ]
    }
   ],
   "source": [
    "batch_size = 64\n",
    "model.fit_generator(\n",
    "        train_generator,\n",
    "        steps_per_epoch=500 // batch_size,\n",
    "        epochs=15,\n",
    "        validation_data=validation_generator,\n",
    "        validation_steps=300 // batch_size)\n",
    "import datetime\n",
    "now = str(datetime.datetime.now())\n"
   ]
  },
  {
   "cell_type": "code",
   "execution_count": 126,
   "metadata": {
    "collapsed": false
   },
   "outputs": [
    {
     "data": {
      "text/plain": [
       "(256L, 32L)"
      ]
     },
     "execution_count": 126,
     "metadata": {},
     "output_type": "execute_result"
    }
   ],
   "source": [
    "# model.save_weights('first_try.h5')  # always save your weights after training or during training\n",
    "weights = model.weights[6:]\n",
    "weights[0].eval().shape"
   ]
  },
  {
   "cell_type": "markdown",
   "metadata": {
    "collapsed": true
   },
   "source": [
    "#### Using VGG16 Bottleneck Features"
   ]
  },
  {
   "cell_type": "code",
   "execution_count": 1,
   "metadata": {
    "collapsed": true
   },
   "outputs": [],
   "source": [
    "from keras.applications import VGG16"
   ]
  },
  {
   "cell_type": "code",
   "execution_count": 159,
   "metadata": {
    "collapsed": false
   },
   "outputs": [
    {
     "name": "stdout",
     "output_type": "stream",
     "text": [
      "Downloading data from https://github.com/fchollet/deep-learning-models/releases/download/v0.1/vgg16_weights_tf_dim_ordering_tf_kernels.h5\n"
     ]
    }
   ],
   "source": [
    "vmodel = VGG16(include_top=True, weights='imagenet')#, input_shape=(3,48,48))"
   ]
  },
  {
   "cell_type": "code",
   "execution_count": 164,
   "metadata": {
    "collapsed": false
   },
   "outputs": [],
   "source": [
    "vmodel.layers.pop()\n",
    "for layr in vmodel.layers:\n",
    "    layr.trainable = False\n",
    "last = vmodel.output\n",
    "# x = Flatten(last)\n",
    "x = Dense(2, activation='sigmoid')(last)\n",
    "vvmodel = keras.models.Model(vmodel.input, x)"
   ]
  },
  {
   "cell_type": "code",
   "execution_count": 166,
   "metadata": {
    "collapsed": false
   },
   "outputs": [
    {
     "name": "stdout",
     "output_type": "stream",
     "text": [
      "_________________________________________________________________\n",
      "Layer (type)                 Output Shape              Param #   \n",
      "=================================================================\n",
      "input_17 (InputLayer)        (None, 3, 224, 224)       0         \n",
      "_________________________________________________________________\n",
      "block1_conv1 (Conv2D)        (None, 64, 224, 224)      1792      \n",
      "_________________________________________________________________\n",
      "block1_conv2 (Conv2D)        (None, 64, 224, 224)      36928     \n",
      "_________________________________________________________________\n",
      "block1_pool (MaxPooling2D)   (None, 64, 112, 112)      0         \n",
      "_________________________________________________________________\n",
      "block2_conv1 (Conv2D)        (None, 128, 112, 112)     73856     \n",
      "_________________________________________________________________\n",
      "block2_conv2 (Conv2D)        (None, 128, 112, 112)     147584    \n",
      "_________________________________________________________________\n",
      "block2_pool (MaxPooling2D)   (None, 128, 56, 56)       0         \n",
      "_________________________________________________________________\n",
      "block3_conv1 (Conv2D)        (None, 256, 56, 56)       295168    \n",
      "_________________________________________________________________\n",
      "block3_conv2 (Conv2D)        (None, 256, 56, 56)       590080    \n",
      "_________________________________________________________________\n",
      "block3_conv3 (Conv2D)        (None, 256, 56, 56)       590080    \n",
      "_________________________________________________________________\n",
      "block3_pool (MaxPooling2D)   (None, 256, 28, 28)       0         \n",
      "_________________________________________________________________\n",
      "block4_conv1 (Conv2D)        (None, 512, 28, 28)       1180160   \n",
      "_________________________________________________________________\n",
      "block4_conv2 (Conv2D)        (None, 512, 28, 28)       2359808   \n",
      "_________________________________________________________________\n",
      "block4_conv3 (Conv2D)        (None, 512, 28, 28)       2359808   \n",
      "_________________________________________________________________\n",
      "block4_pool (MaxPooling2D)   (None, 512, 14, 14)       0         \n",
      "_________________________________________________________________\n",
      "block5_conv1 (Conv2D)        (None, 512, 14, 14)       2359808   \n",
      "_________________________________________________________________\n",
      "block5_conv2 (Conv2D)        (None, 512, 14, 14)       2359808   \n",
      "_________________________________________________________________\n",
      "block5_conv3 (Conv2D)        (None, 512, 14, 14)       2359808   \n",
      "_________________________________________________________________\n",
      "block5_pool (MaxPooling2D)   (None, 512, 7, 7)         0         \n",
      "_________________________________________________________________\n",
      "flatten (Flatten)            (None, 25088)             0         \n",
      "_________________________________________________________________\n",
      "fc1 (Dense)                  (None, 4096)              102764544 \n",
      "_________________________________________________________________\n",
      "fc2 (Dense)                  (None, 4096)              16781312  \n",
      "_________________________________________________________________\n",
      "predictions (Dense)          (None, 1000)              4097000   \n",
      "_________________________________________________________________\n",
      "dense_19 (Dense)             (None, 2)                 2002      \n",
      "=================================================================\n",
      "Total params: 138,359,546.0\n",
      "Trainable params: 4,099,002.0\n",
      "Non-trainable params: 134,260,544.0\n",
      "_________________________________________________________________\n"
     ]
    }
   ],
   "source": [
    "# vmodel.add(Dense(2))\n",
    "# vmodel.add(Activation('sigmoid'))\n",
    "vvmodel.summary()"
   ]
  },
  {
   "cell_type": "code",
   "execution_count": 183,
   "metadata": {
    "collapsed": false
   },
   "outputs": [],
   "source": [
    "test_datagen = ImageDataGenerator(rescale=1./255)\n",
    "train_generator = train_datagen.flow(Xtrain,\n",
    "        batch_size=batch_size, shuffle=True)  # since we use binary_crossentropy loss, we need binary labels\n",
    "\n",
    "# this is a similar generator, for validation data\n",
    "validation_generator = test_datagen.flow(Xtest,\n",
    "        batch_size=batch_size, shuffle=True)\n",
    "\n"
   ]
  },
  {
   "cell_type": "code",
   "execution_count": 172,
   "metadata": {
    "collapsed": false
   },
   "outputs": [
    {
     "ename": "AttributeError",
     "evalue": "'NumpyArrayIterator' object has no attribute 'flow'",
     "output_type": "error",
     "traceback": [
      "\u001b[1;31m---------------------------------------------------------------------------\u001b[0m",
      "\u001b[1;31mAttributeError\u001b[0m                            Traceback (most recent call last)",
      "\u001b[1;32m<ipython-input-172-bb9ea781a7b5>\u001b[0m in \u001b[0;36m<module>\u001b[1;34m()\u001b[0m\n\u001b[1;32m----> 1\u001b[1;33m \u001b[0mtrain_batches\u001b[0m \u001b[1;33m=\u001b[0m \u001b[0mtrain_generator\u001b[0m\u001b[1;33m.\u001b[0m\u001b[0mflow\u001b[0m\u001b[1;33m(\u001b[0m\u001b[0mXtrain\u001b[0m\u001b[1;33m,\u001b[0m \u001b[0myetrain\u001b[0m\u001b[1;33m,\u001b[0m \u001b[0mbatch_size\u001b[0m\u001b[1;33m=\u001b[0m\u001b[0mbatch_size\u001b[0m\u001b[1;33m,\u001b[0m \u001b[0mshuffle\u001b[0m\u001b[1;33m=\u001b[0m\u001b[0mTrue\u001b[0m\u001b[1;33m)\u001b[0m\u001b[1;33m\u001b[0m\u001b[0m\n\u001b[0m\u001b[0;32m      2\u001b[0m \u001b[0mval_batches\u001b[0m \u001b[1;33m=\u001b[0m \u001b[0mtest_datagen\u001b[0m\u001b[1;33m.\u001b[0m\u001b[0mflow\u001b[0m\u001b[1;33m(\u001b[0m\u001b[0mXtest\u001b[0m\u001b[1;33m,\u001b[0m \u001b[0myetest\u001b[0m\u001b[1;33m,\u001b[0m \u001b[0mbatch_size\u001b[0m\u001b[1;33m=\u001b[0m\u001b[0mbatch_size\u001b[0m\u001b[1;33m,\u001b[0m \u001b[0mshuffle\u001b[0m\u001b[1;33m=\u001b[0m\u001b[0mFalse\u001b[0m\u001b[1;33m)\u001b[0m\u001b[1;33m\u001b[0m\u001b[0m\n",
      "\u001b[1;31mAttributeError\u001b[0m: 'NumpyArrayIterator' object has no attribute 'flow'"
     ]
    }
   ],
   "source": [
    "# train_batches = train_generator.flow(Xtrain, yetrain, batch_size=batch_size, shuffle=True)\n",
    "# val_batches = test_datagen.flow(Xtest, yetest, batch_size=batch_size, shuffle=False)"
   ]
  },
  {
   "cell_type": "code",
   "execution_count": 179,
   "metadata": {
    "collapsed": true
   },
   "outputs": [],
   "source": [
    "opt = RMSprop(lr=0.01)\n",
    "vvmodel.compile(optimizer=opt, loss='categorical_crossentropy', metrics=['accuracy'])"
   ]
  },
  {
   "cell_type": "code",
   "execution_count": 176,
   "metadata": {
    "collapsed": true
   },
   "outputs": [],
   "source": [
    "def fit_model(model, batches, val_batches, epochs=1):\n",
    "    model.fit_generator(batches, steps_per_epoch=1500 // batch_size, epochs=epochs, \n",
    "                        validation_steps=700 // batch_size,\n",
    "                        validation_data=val_batches)"
   ]
  },
  {
   "cell_type": "code",
   "execution_count": 186,
   "metadata": {
    "collapsed": false
   },
   "outputs": [
    {
     "ename": "ValueError",
     "evalue": "Error when checking model input: expected input_17 to have shape (None, 3, 224, 224) but got array with shape (100L, 3L, 48L, 48L)",
     "output_type": "error",
     "traceback": [
      "\u001b[1;31m---------------------------------------------------------------------------\u001b[0m",
      "\u001b[1;31mValueError\u001b[0m                                Traceback (most recent call last)",
      "\u001b[1;32m<ipython-input-186-38aae1b22819>\u001b[0m in \u001b[0;36m<module>\u001b[1;34m()\u001b[0m\n\u001b[1;32m----> 1\u001b[1;33m \u001b[0mvvmodel\u001b[0m\u001b[1;33m.\u001b[0m\u001b[0mfit\u001b[0m\u001b[1;33m(\u001b[0m\u001b[0mXtrain\u001b[0m\u001b[1;33m[\u001b[0m\u001b[1;36m0\u001b[0m\u001b[1;33m:\u001b[0m\u001b[1;36m100\u001b[0m\u001b[1;33m]\u001b[0m\u001b[1;33m,\u001b[0m \u001b[0myetrain\u001b[0m\u001b[1;33m[\u001b[0m\u001b[1;36m0\u001b[0m\u001b[1;33m:\u001b[0m\u001b[1;36m100\u001b[0m\u001b[1;33m]\u001b[0m\u001b[1;33m,\u001b[0m \u001b[0mverbose\u001b[0m\u001b[1;33m=\u001b[0m\u001b[0mTrue\u001b[0m\u001b[1;33m)\u001b[0m\u001b[1;33m\u001b[0m\u001b[0m\n\u001b[0m",
      "\u001b[1;32mC:\\apps\\python2.7\\python-2.7.10.amd64\\lib\\site-packages\\keras-2.0.2-py2.7.egg\\keras\\engine\\training.pyc\u001b[0m in \u001b[0;36mfit\u001b[1;34m(self, x, y, batch_size, epochs, verbose, callbacks, validation_split, validation_data, shuffle, class_weight, sample_weight, initial_epoch, **kwargs)\u001b[0m\n\u001b[0;32m   1403\u001b[0m             \u001b[0mclass_weight\u001b[0m\u001b[1;33m=\u001b[0m\u001b[0mclass_weight\u001b[0m\u001b[1;33m,\u001b[0m\u001b[1;33m\u001b[0m\u001b[0m\n\u001b[0;32m   1404\u001b[0m             \u001b[0mcheck_batch_axis\u001b[0m\u001b[1;33m=\u001b[0m\u001b[0mFalse\u001b[0m\u001b[1;33m,\u001b[0m\u001b[1;33m\u001b[0m\u001b[0m\n\u001b[1;32m-> 1405\u001b[1;33m             batch_size=batch_size)\n\u001b[0m\u001b[0;32m   1406\u001b[0m         \u001b[1;31m# prepare validation data\u001b[0m\u001b[1;33m\u001b[0m\u001b[1;33m\u001b[0m\u001b[0m\n\u001b[0;32m   1407\u001b[0m         \u001b[1;32mif\u001b[0m \u001b[0mvalidation_data\u001b[0m\u001b[1;33m:\u001b[0m\u001b[1;33m\u001b[0m\u001b[0m\n",
      "\u001b[1;32mC:\\apps\\python2.7\\python-2.7.10.amd64\\lib\\site-packages\\keras-2.0.2-py2.7.egg\\keras\\engine\\training.pyc\u001b[0m in \u001b[0;36m_standardize_user_data\u001b[1;34m(self, x, y, sample_weight, class_weight, check_batch_axis, batch_size)\u001b[0m\n\u001b[0;32m   1293\u001b[0m                                     \u001b[0mself\u001b[0m\u001b[1;33m.\u001b[0m\u001b[0m_feed_input_shapes\u001b[0m\u001b[1;33m,\u001b[0m\u001b[1;33m\u001b[0m\u001b[0m\n\u001b[0;32m   1294\u001b[0m                                     \u001b[0mcheck_batch_axis\u001b[0m\u001b[1;33m=\u001b[0m\u001b[0mFalse\u001b[0m\u001b[1;33m,\u001b[0m\u001b[1;33m\u001b[0m\u001b[0m\n\u001b[1;32m-> 1295\u001b[1;33m                                     exception_prefix='model input')\n\u001b[0m\u001b[0;32m   1296\u001b[0m         y = _standardize_input_data(y, self._feed_output_names,\n\u001b[0;32m   1297\u001b[0m                                     \u001b[0moutput_shapes\u001b[0m\u001b[1;33m,\u001b[0m\u001b[1;33m\u001b[0m\u001b[0m\n",
      "\u001b[1;32mC:\\apps\\python2.7\\python-2.7.10.amd64\\lib\\site-packages\\keras-2.0.2-py2.7.egg\\keras\\engine\\training.pyc\u001b[0m in \u001b[0;36m_standardize_input_data\u001b[1;34m(data, names, shapes, check_batch_axis, exception_prefix)\u001b[0m\n\u001b[0;32m    131\u001b[0m                             \u001b[1;34m' to have shape '\u001b[0m \u001b[1;33m+\u001b[0m \u001b[0mstr\u001b[0m\u001b[1;33m(\u001b[0m\u001b[0mshapes\u001b[0m\u001b[1;33m[\u001b[0m\u001b[0mi\u001b[0m\u001b[1;33m]\u001b[0m\u001b[1;33m)\u001b[0m \u001b[1;33m+\u001b[0m\u001b[1;33m\u001b[0m\u001b[0m\n\u001b[0;32m    132\u001b[0m                             \u001b[1;34m' but got array with shape '\u001b[0m \u001b[1;33m+\u001b[0m\u001b[1;33m\u001b[0m\u001b[0m\n\u001b[1;32m--> 133\u001b[1;33m                             str(array.shape))\n\u001b[0m\u001b[0;32m    134\u001b[0m     \u001b[1;32mreturn\u001b[0m \u001b[0marrays\u001b[0m\u001b[1;33m\u001b[0m\u001b[0m\n\u001b[0;32m    135\u001b[0m \u001b[1;33m\u001b[0m\u001b[0m\n",
      "\u001b[1;31mValueError\u001b[0m: Error when checking model input: expected input_17 to have shape (None, 3, 224, 224) but got array with shape (100L, 3L, 48L, 48L)"
     ]
    }
   ],
   "source": [
    "vvmodel.fit(Xtrain[0:100], yetrain[0:100], verbose=True)"
   ]
  },
  {
   "cell_type": "code",
   "execution_count": 184,
   "metadata": {
    "collapsed": false
   },
   "outputs": [
    {
     "name": "stdout",
     "output_type": "stream",
     "text": [
      "Epoch 1/2\n"
     ]
    },
    {
     "ename": "ValueError",
     "evalue": "output of generator should be a tuple `(x, y, sample_weight)` or `(x, y)`. Found: [[[[   7.    9.   10. ...,  132.  130.  130.]\n   [   7.    9.    9. ...,  130.  114.  114.]\n   [   7.    7.    9. ...,  114.   95.   95.]\n   ..., \n   [ 228.  237.  237. ...,    0.   25.   25.]\n   [ 237.  243.  243. ...,   23.   48.   50.]\n   [ 243.  243.  236. ...,   46.   46.   48.]]\n\n  [[   5.    7.    8. ...,  127.  124.  124.]\n   [   5.    7.    7. ...,  124.  111.  111.]\n   [   5.    5.    7. ...,  111.   92.   92.]\n   ..., \n   [ 218.  230.  230. ...,    0.   26.   26.]\n   [ 230.  239.  239. ...,   24.   49.   50.]\n   [ 239.  239.  231. ...,   47.   47.   49.]]\n\n  [[   6.    8.    9. ...,   91.   90.   90.]\n   [   6.    8.    8. ...,   90.   77.   77.]\n   [   6.    6.    8. ...,   77.   60.   60.]\n   ..., \n   [ 192.  207.  207. ...,    0.   18.   18.]\n   [ 207.  217.  217. ...,   17.   34.   35.]\n   [ 217.  217.  206. ...,   33.   33.   34.]]]\n\n\n [[[  15.   15.   15. ...,   63.  117.  146.]\n   [  15.   15.   15. ...,  120.  156.  171.]\n   [  15.   15.   15. ...,  127.  148.  159.]\n   ..., \n   [ 176.  176.  176. ...,  116.  119.  121.]\n   [ 176.  176.  176. ...,   89.   96.  121.]\n   [ 176.  176.  176. ...,   66.   76.  101.]]\n\n  [[  18.   23.   23. ...,   90.  150.  182.]\n   [  18.   18.   18. ...,  130.  168.  183.]\n   [  15.   15.   15. ...,  113.  127.  135.]\n   ..., \n   [  85.   85.   85. ...,   45.   45.   46.]\n   [  85.   85.   85. ...,   28.   30.   46.]\n   [  85.   85.   85. ...,   14.   19.   32.]]\n\n  [[   7.   16.   16. ...,   83.  143.  176.]\n   [   7.    7.    7. ...,  123.  159.  174.]\n   [   5.    5.    5. ...,   98.  111.  117.]\n   ..., \n   [  38.   38.   38. ...,   21.   21.   21.]\n   [  38.   38.   38. ...,   14.   15.   21.]\n   [  38.   38.   38. ...,    8.   11.   15.]]]\n\n\n [[[ 189.  189.  188. ...,  211.  211.  213.]\n   [ 188.  188.  189. ...,  213.  213.  215.]\n   [ 187.  188.  193. ...,  213.  215.  216.]\n   ..., \n   [ 170.  170.  167. ...,  193.  195.  197.]\n   [ 167.  167.  145. ...,  193.  193.  195.]\n   [ 167.  145.  121. ...,  190.  193.  195.]]\n\n  [[ 190.  190.  189. ...,  210.  210.  212.]\n   [ 190.  190.  191. ...,  212.  212.  214.]\n   [ 189.  190.  196. ...,  212.  214.  215.]\n   ..., \n   [ 182.  182.  179. ...,  193.  194.  196.]\n   [ 179.  179.  156. ...,  193.  193.  194.]\n   [ 179.  156.  133. ...,  190.  193.  194.]]\n\n  [[ 194.  194.  194. ...,  215.  215.  217.]\n   [ 193.  193.  196. ...,  217.  217.  219.]\n   [ 193.  194.  202. ...,  217.  219.  221.]\n   ..., \n   [ 189.  189.  187. ...,  200.  202.  204.]\n   [ 187.  187.  162. ...,  200.  200.  202.]\n   [ 187.  162.  138. ...,  197.  200.  202.]]]\n\n\n ..., \n [[[  58.   96.  111. ...,  180.  180.  188.]\n   [  58.   96.  111. ...,  180.  188.  190.]\n   [  34.   58.   96. ...,  188.  190.  190.]\n   ..., \n   [   7.    1.    1. ...,   72.   69.   62.]\n   [   1.    1.    1. ...,   73.   72.   69.]\n   [   1.    1.    2. ...,   73.   72.   69.]]\n\n  [[  58.   97.  114. ...,  155.  155.  159.]\n   [  58.   97.  114. ...,  155.  159.  156.]\n   [  33.   58.   97. ...,  159.  156.  156.]\n   ..., \n   [   8.    2.    2. ...,   68.   64.   57.]\n   [   2.    2.    0. ...,   70.   68.   64.]\n   [   0.    0.    1. ...,   70.   68.   64.]]\n\n  [[  64.  105.  123. ...,  132.  132.  134.]\n   [  64.  105.  123. ...,  132.  134.  132.]\n   [  37.   64.  105. ...,  134.  132.  132.]\n   ..., \n   [   8.    2.    2. ...,   72.   68.   59.]\n   [   2.    2.    0. ...,   74.   72.   68.]\n   [   0.    0.    0. ...,   74.   72.   68.]]]\n\n\n [[[ 241.  241.  226. ...,  217.  217.  217.]\n   [ 234.  234.  215. ...,  192.  192.  217.]\n   [ 236.  236.  192. ...,  166.  166.  192.]\n   ..., \n   [  78.   79.   79. ...,  123.  124.  124.]\n   [  79.   79.   79. ...,  126.  123.  123.]\n   [  79.   79.   79. ...,  130.  126.  126.]]\n\n  [[  75.   75.   76. ...,  194.  194.  194.]\n   [  61.   61.   62. ...,  158.  158.  194.]\n   [  75.   75.   65. ...,  127.  127.  158.]\n   ..., \n   [  55.   55.   56. ...,   94.   96.   96.]\n   [  55.   55.   56. ...,   97.   94.   94.]\n   [  55.   55.   56. ...,  100.   97.   97.]]\n\n  [[  79.   79.   83. ...,  191.  191.  191.]\n   [  59.   59.   65. ...,  156.  156.  191.]\n   [  69.   69.   72. ...,  125.  125.  156.]\n   ..., \n   [  55.   55.   53. ...,  104.  106.  106.]\n   [  55.   53.   53. ...,  108.  104.  104.]\n   [  55.   53.   53. ...,  112.  108.  108.]]]\n\n\n [[[ 175.  173.  171. ...,   87.   92.  100.]\n   [ 176.  175.  173. ...,   87.   92.  100.]\n   [ 187.  176.  175. ...,   92.  100.  112.]\n   ..., \n   [ 191.  186.  184. ...,  143.  143.  150.]\n   [ 186.  184.  184. ...,  144.  144.  143.]\n   [ 186.  184.  184. ...,  147.  147.  144.]]\n\n  [[ 166.  163.  161. ...,   61.   65.   72.]\n   [ 168.  166.  163. ...,   61.   65.   72.]\n   [ 179.  168.  166. ...,   65.   72.   83.]\n   ..., \n   [ 185.  180.  177. ...,  130.  130.  136.]\n   [ 180.  177.  177. ...,  130.  130.  130.]\n   [ 180.  177.  174. ...,  133.  133.  130.]]\n\n  [[ 152.  147.  143. ...,   45.   48.   53.]\n   [ 154.  152.  147. ...,   45.   48.   53.]\n   [ 167.  154.  152. ...,   48.   53.   62.]\n   ..., \n   [ 171.  165.  160. ...,  108.  108.  114.]\n   [ 165.  160.  160. ...,  105.  105.  108.]\n   [ 165.  160.  158. ...,  106.  106.  105.]]]]",
     "output_type": "error",
     "traceback": [
      "\u001b[1;31m---------------------------------------------------------------------------\u001b[0m",
      "\u001b[1;31mValueError\u001b[0m                                Traceback (most recent call last)",
      "\u001b[1;32m<ipython-input-184-e1285cb08955>\u001b[0m in \u001b[0;36m<module>\u001b[1;34m()\u001b[0m\n\u001b[1;32m----> 1\u001b[1;33m \u001b[0mfit_model\u001b[0m\u001b[1;33m(\u001b[0m\u001b[0mvvmodel\u001b[0m\u001b[1;33m,\u001b[0m \u001b[0mtrain_generator\u001b[0m\u001b[1;33m,\u001b[0m \u001b[0mvalidation_generator\u001b[0m\u001b[1;33m,\u001b[0m \u001b[0mepochs\u001b[0m\u001b[1;33m=\u001b[0m\u001b[1;36m2\u001b[0m\u001b[1;33m)\u001b[0m\u001b[1;33m\u001b[0m\u001b[0m\n\u001b[0m\u001b[0;32m      2\u001b[0m \u001b[1;33m\u001b[0m\u001b[0m\n\u001b[0;32m      3\u001b[0m \u001b[1;31m# model.fit_generator(\u001b[0m\u001b[1;33m\u001b[0m\u001b[1;33m\u001b[0m\u001b[0m\n\u001b[0;32m      4\u001b[0m \u001b[1;31m#         train_generator,\u001b[0m\u001b[1;33m\u001b[0m\u001b[1;33m\u001b[0m\u001b[0m\n\u001b[0;32m      5\u001b[0m \u001b[1;31m#         steps_per_epoch=500 // batch_size,\u001b[0m\u001b[1;33m\u001b[0m\u001b[1;33m\u001b[0m\u001b[0m\n",
      "\u001b[1;32m<ipython-input-176-45628973f34d>\u001b[0m in \u001b[0;36mfit_model\u001b[1;34m(model, batches, val_batches, epochs)\u001b[0m\n\u001b[0;32m      2\u001b[0m     model.fit_generator(batches, steps_per_epoch=1500 // batch_size, epochs=epochs, \n\u001b[0;32m      3\u001b[0m                         \u001b[0mvalidation_steps\u001b[0m\u001b[1;33m=\u001b[0m\u001b[1;36m700\u001b[0m \u001b[1;33m//\u001b[0m \u001b[0mbatch_size\u001b[0m\u001b[1;33m,\u001b[0m\u001b[1;33m\u001b[0m\u001b[0m\n\u001b[1;32m----> 4\u001b[1;33m                         validation_data=val_batches)\n\u001b[0m",
      "\u001b[1;32mC:\\apps\\python2.7\\python-2.7.10.amd64\\lib\\site-packages\\keras-2.0.2-py2.7.egg\\keras\\legacy\\interfaces.pyc\u001b[0m in \u001b[0;36mwrapper\u001b[1;34m(*args, **kwargs)\u001b[0m\n\u001b[0;32m     86\u001b[0m                 warnings.warn('Update your `' + object_name +\n\u001b[0;32m     87\u001b[0m                               '` call to the Keras 2 API: ' + signature, stacklevel=2)\n\u001b[1;32m---> 88\u001b[1;33m             \u001b[1;32mreturn\u001b[0m \u001b[0mfunc\u001b[0m\u001b[1;33m(\u001b[0m\u001b[1;33m*\u001b[0m\u001b[0margs\u001b[0m\u001b[1;33m,\u001b[0m \u001b[1;33m**\u001b[0m\u001b[0mkwargs\u001b[0m\u001b[1;33m)\u001b[0m\u001b[1;33m\u001b[0m\u001b[0m\n\u001b[0m\u001b[0;32m     89\u001b[0m         \u001b[0mwrapper\u001b[0m\u001b[1;33m.\u001b[0m\u001b[0m_legacy_support_signature\u001b[0m \u001b[1;33m=\u001b[0m \u001b[0minspect\u001b[0m\u001b[1;33m.\u001b[0m\u001b[0mgetargspec\u001b[0m\u001b[1;33m(\u001b[0m\u001b[0mfunc\u001b[0m\u001b[1;33m)\u001b[0m\u001b[1;33m\u001b[0m\u001b[0m\n\u001b[0;32m     90\u001b[0m         \u001b[1;32mreturn\u001b[0m \u001b[0mwrapper\u001b[0m\u001b[1;33m\u001b[0m\u001b[0m\n",
      "\u001b[1;32mC:\\apps\\python2.7\\python-2.7.10.amd64\\lib\\site-packages\\keras-2.0.2-py2.7.egg\\keras\\engine\\training.pyc\u001b[0m in \u001b[0;36mfit_generator\u001b[1;34m(self, generator, steps_per_epoch, epochs, verbose, callbacks, validation_data, validation_steps, class_weight, max_q_size, workers, pickle_safe, initial_epoch)\u001b[0m\n\u001b[0;32m   1859\u001b[0m                                          \u001b[1;34m'a tuple `(x, y, sample_weight)` '\u001b[0m\u001b[1;33m\u001b[0m\u001b[0m\n\u001b[0;32m   1860\u001b[0m                                          \u001b[1;34m'or `(x, y)`. Found: '\u001b[0m \u001b[1;33m+\u001b[0m\u001b[1;33m\u001b[0m\u001b[0m\n\u001b[1;32m-> 1861\u001b[1;33m                                          str(generator_output))\n\u001b[0m\u001b[0;32m   1862\u001b[0m                     \u001b[1;31m# build batch logs\u001b[0m\u001b[1;33m\u001b[0m\u001b[1;33m\u001b[0m\u001b[0m\n\u001b[0;32m   1863\u001b[0m                     \u001b[0mbatch_logs\u001b[0m \u001b[1;33m=\u001b[0m \u001b[1;33m{\u001b[0m\u001b[1;33m}\u001b[0m\u001b[1;33m\u001b[0m\u001b[0m\n",
      "\u001b[1;31mValueError\u001b[0m: output of generator should be a tuple `(x, y, sample_weight)` or `(x, y)`. Found: [[[[   7.    9.   10. ...,  132.  130.  130.]\n   [   7.    9.    9. ...,  130.  114.  114.]\n   [   7.    7.    9. ...,  114.   95.   95.]\n   ..., \n   [ 228.  237.  237. ...,    0.   25.   25.]\n   [ 237.  243.  243. ...,   23.   48.   50.]\n   [ 243.  243.  236. ...,   46.   46.   48.]]\n\n  [[   5.    7.    8. ...,  127.  124.  124.]\n   [   5.    7.    7. ...,  124.  111.  111.]\n   [   5.    5.    7. ...,  111.   92.   92.]\n   ..., \n   [ 218.  230.  230. ...,    0.   26.   26.]\n   [ 230.  239.  239. ...,   24.   49.   50.]\n   [ 239.  239.  231. ...,   47.   47.   49.]]\n\n  [[   6.    8.    9. ...,   91.   90.   90.]\n   [   6.    8.    8. ...,   90.   77.   77.]\n   [   6.    6.    8. ...,   77.   60.   60.]\n   ..., \n   [ 192.  207.  207. ...,    0.   18.   18.]\n   [ 207.  217.  217. ...,   17.   34.   35.]\n   [ 217.  217.  206. ...,   33.   33.   34.]]]\n\n\n [[[  15.   15.   15. ...,   63.  117.  146.]\n   [  15.   15.   15. ...,  120.  156.  171.]\n   [  15.   15.   15. ...,  127.  148.  159.]\n   ..., \n   [ 176.  176.  176. ...,  116.  119.  121.]\n   [ 176.  176.  176. ...,   89.   96.  121.]\n   [ 176.  176.  176. ...,   66.   76.  101.]]\n\n  [[  18.   23.   23. ...,   90.  150.  182.]\n   [  18.   18.   18. ...,  130.  168.  183.]\n   [  15.   15.   15. ...,  113.  127.  135.]\n   ..., \n   [  85.   85.   85. ...,   45.   45.   46.]\n   [  85.   85.   85. ...,   28.   30.   46.]\n   [  85.   85.   85. ...,   14.   19.   32.]]\n\n  [[   7.   16.   16. ...,   83.  143.  176.]\n   [   7.    7.    7. ...,  123.  159.  174.]\n   [   5.    5.    5. ...,   98.  111.  117.]\n   ..., \n   [  38.   38.   38. ...,   21.   21.   21.]\n   [  38.   38.   38. ...,   14.   15.   21.]\n   [  38.   38.   38. ...,    8.   11.   15.]]]\n\n\n [[[ 189.  189.  188. ...,  211.  211.  213.]\n   [ 188.  188.  189. ...,  213.  213.  215.]\n   [ 187.  188.  193. ...,  213.  215.  216.]\n   ..., \n   [ 170.  170.  167. ...,  193.  195.  197.]\n   [ 167.  167.  145. ...,  193.  193.  195.]\n   [ 167.  145.  121. ...,  190.  193.  195.]]\n\n  [[ 190.  190.  189. ...,  210.  210.  212.]\n   [ 190.  190.  191. ...,  212.  212.  214.]\n   [ 189.  190.  196. ...,  212.  214.  215.]\n   ..., \n   [ 182.  182.  179. ...,  193.  194.  196.]\n   [ 179.  179.  156. ...,  193.  193.  194.]\n   [ 179.  156.  133. ...,  190.  193.  194.]]\n\n  [[ 194.  194.  194. ...,  215.  215.  217.]\n   [ 193.  193.  196. ...,  217.  217.  219.]\n   [ 193.  194.  202. ...,  217.  219.  221.]\n   ..., \n   [ 189.  189.  187. ...,  200.  202.  204.]\n   [ 187.  187.  162. ...,  200.  200.  202.]\n   [ 187.  162.  138. ...,  197.  200.  202.]]]\n\n\n ..., \n [[[  58.   96.  111. ...,  180.  180.  188.]\n   [  58.   96.  111. ...,  180.  188.  190.]\n   [  34.   58.   96. ...,  188.  190.  190.]\n   ..., \n   [   7.    1.    1. ...,   72.   69.   62.]\n   [   1.    1.    1. ...,   73.   72.   69.]\n   [   1.    1.    2. ...,   73.   72.   69.]]\n\n  [[  58.   97.  114. ...,  155.  155.  159.]\n   [  58.   97.  114. ...,  155.  159.  156.]\n   [  33.   58.   97. ...,  159.  156.  156.]\n   ..., \n   [   8.    2.    2. ...,   68.   64.   57.]\n   [   2.    2.    0. ...,   70.   68.   64.]\n   [   0.    0.    1. ...,   70.   68.   64.]]\n\n  [[  64.  105.  123. ...,  132.  132.  134.]\n   [  64.  105.  123. ...,  132.  134.  132.]\n   [  37.   64.  105. ...,  134.  132.  132.]\n   ..., \n   [   8.    2.    2. ...,   72.   68.   59.]\n   [   2.    2.    0. ...,   74.   72.   68.]\n   [   0.    0.    0. ...,   74.   72.   68.]]]\n\n\n [[[ 241.  241.  226. ...,  217.  217.  217.]\n   [ 234.  234.  215. ...,  192.  192.  217.]\n   [ 236.  236.  192. ...,  166.  166.  192.]\n   ..., \n   [  78.   79.   79. ...,  123.  124.  124.]\n   [  79.   79.   79. ...,  126.  123.  123.]\n   [  79.   79.   79. ...,  130.  126.  126.]]\n\n  [[  75.   75.   76. ...,  194.  194.  194.]\n   [  61.   61.   62. ...,  158.  158.  194.]\n   [  75.   75.   65. ...,  127.  127.  158.]\n   ..., \n   [  55.   55.   56. ...,   94.   96.   96.]\n   [  55.   55.   56. ...,   97.   94.   94.]\n   [  55.   55.   56. ...,  100.   97.   97.]]\n\n  [[  79.   79.   83. ...,  191.  191.  191.]\n   [  59.   59.   65. ...,  156.  156.  191.]\n   [  69.   69.   72. ...,  125.  125.  156.]\n   ..., \n   [  55.   55.   53. ...,  104.  106.  106.]\n   [  55.   53.   53. ...,  108.  104.  104.]\n   [  55.   53.   53. ...,  112.  108.  108.]]]\n\n\n [[[ 175.  173.  171. ...,   87.   92.  100.]\n   [ 176.  175.  173. ...,   87.   92.  100.]\n   [ 187.  176.  175. ...,   92.  100.  112.]\n   ..., \n   [ 191.  186.  184. ...,  143.  143.  150.]\n   [ 186.  184.  184. ...,  144.  144.  143.]\n   [ 186.  184.  184. ...,  147.  147.  144.]]\n\n  [[ 166.  163.  161. ...,   61.   65.   72.]\n   [ 168.  166.  163. ...,   61.   65.   72.]\n   [ 179.  168.  166. ...,   65.   72.   83.]\n   ..., \n   [ 185.  180.  177. ...,  130.  130.  136.]\n   [ 180.  177.  177. ...,  130.  130.  130.]\n   [ 180.  177.  174. ...,  133.  133.  130.]]\n\n  [[ 152.  147.  143. ...,   45.   48.   53.]\n   [ 154.  152.  147. ...,   45.   48.   53.]\n   [ 167.  154.  152. ...,   48.   53.   62.]\n   ..., \n   [ 171.  165.  160. ...,  108.  108.  114.]\n   [ 165.  160.  160. ...,  105.  105.  108.]\n   [ 165.  160.  158. ...,  106.  106.  105.]]]]"
     ]
    }
   ],
   "source": [
    "fit_model(vvmodel, train_generator, validation_generator, epochs=2)\n",
    "\n",
    "# model.fit_generator(\n",
    "#         train_generator,\n",
    "#         steps_per_epoch=500 // batch_size,\n",
    "#         epochs=15,\n",
    "#         validation_data=validation_generator,\n",
    "#         validation_steps=300 // batch_size)"
   ]
  },
  {
   "cell_type": "code",
   "execution_count": null,
   "metadata": {
    "collapsed": false
   },
   "outputs": [],
   "source": [
    "bottleneck_features_train = vmodel.predict_generator(\n",
    "        train_generator, 500)\n",
    "np.save(open('bottleneck_features_train.npy', 'w'),\n",
    "            bottleneck_features_train)"
   ]
  },
  {
   "cell_type": "code",
   "execution_count": null,
   "metadata": {
    "collapsed": false
   },
   "outputs": [],
   "source": [
    "top_model = Sequential()\n",
    "top_model.add(Flatten(input_shape=(256,32),weights=np.zeros((256,32))))\n",
    "top_model.add(Dense(32))\n",
    "top_model.add(Activation('relu'))\n",
    "top_model.add(Dropout(0.5))\n",
    "top_model.add(Dense(2))\n",
    "top_model.add(Activation('sigmoid'))\n"
   ]
  },
  {
   "cell_type": "code",
   "execution_count": 138,
   "metadata": {
    "collapsed": false
   },
   "outputs": [],
   "source": [
    "# top_model.set_weights(weights)\n",
    "top_model.layers[0].set_weights(weights[0].eval())"
   ]
  },
  {
   "cell_type": "code",
   "execution_count": null,
   "metadata": {
    "collapsed": false,
    "scrolled": true
   },
   "outputs": [],
   "source": [
    "top_model_weights_path = 'first_try.h5'\n",
    "top_model.load_weights(top_model_weights_path)\n",
    "\n",
    "# add the model on top of the convolutional base\n",
    "vmodel.add(top_model)\n",
    "\n",
    "# set the first 25 layers (up to the last conv block)\n",
    "# to non-trainable (weights will not be updated)\n",
    "for layer in model.layers[:25]:\n",
    "    layer.trainable = False\n",
    "\n",
    "# compile the model with a SGD/momentum optimizer\n",
    "# and a very slow learning rate.\n",
    "vmodel.compile(loss='binary_crossentropy',\n",
    "              optimizer=SGD(lr=1e-4, momentum=0.9),\n",
    "              metrics=['accuracy'])\n",
    "\n",
    "# prepare data augmentation configuration\n",
    "# train_datagen = ImageDataGenerator(\n",
    "#     rescale=1. / 255,\n",
    "#     shear_range=0.2,\n",
    "#     zoom_range=0.2,\n",
    "#     horizontal_flip=True)\n",
    "\n",
    "# test_datagen = ImageDataGenerator(rescale=1. / 255)\n",
    "\n",
    "# train_generator = train_datagen.flow_from_directory(\n",
    "#     train_data_dir,\n",
    "#     target_size=(img_height, img_width),\n",
    "#     batch_size=batch_size,\n",
    "#     class_mode='binary')\n",
    "\n",
    "# validation_generator = test_datagen.flow_from_directory(\n",
    "#     validation_data_dir,\n",
    "#     target_size=(img_height, img_width),\n",
    "#     batch_size=batch_size,\n",
    "#     class_mode='binary')\n",
    "\n",
    "# fine-tune the model\n"
   ]
  },
  {
   "cell_type": "code",
   "execution_count": null,
   "metadata": {
    "collapsed": true
   },
   "outputs": [],
   "source": [
    "epochs = 25\n",
    "vmodel.fit_generator(\n",
    "    train_generator,\n",
    "    samples_per_epoch=nb_train_samples,\n",
    "    epochs=epochs,\n",
    "    validation_data=validation_generator,\n",
    "    nb_val_samples=nb_validation_samples)"
   ]
  }
 ],
 "metadata": {
  "kernelspec": {
   "display_name": "Python 2",
   "language": "python",
   "name": "python2"
  },
  "language_info": {
   "codemirror_mode": {
    "name": "ipython",
    "version": 2
   },
   "file_extension": ".py",
   "mimetype": "text/x-python",
   "name": "python",
   "nbconvert_exporter": "python",
   "pygments_lexer": "ipython2",
   "version": "2.7.10"
  }
 },
 "nbformat": 4,
 "nbformat_minor": 0
}
